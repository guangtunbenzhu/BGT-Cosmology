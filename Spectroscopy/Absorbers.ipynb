{
 "metadata": {
  "name": "",
  "signature": "sha256:529e4890c6dcb01db20464abb9f496a2a26d20cfd509047de7a9346c87023658"
 },
 "nbformat": 3,
 "nbformat_minor": 0,
 "worksheets": [
  {
   "cells": [
    {
     "cell_type": "code",
     "collapsed": false,
     "input": [
      "import absorberspec"
     ],
     "language": "python",
     "metadata": {},
     "outputs": [],
     "prompt_number": 1
    },
    {
     "cell_type": "code",
     "collapsed": false,
     "input": [
      "masterwave, allflux, allivar = absorberspec.rest_allspec_readin()"
     ],
     "language": "python",
     "metadata": {},
     "outputs": [
      {
       "output_type": "stream",
       "stream": "stdout",
       "text": [
        "Reading /Users/Benjamin/AstroData/AllInOne/AIO_MgIIAbsorber_SDSS_SDSSRestFrame_Wave00900_01800A.fits.\n",
        "Reading /Users/Benjamin/AstroData/AllInOne/AIO_MgIIAbsorber_SDSS_SDSSRestFrame_Wave01800_03600A.fits."
       ]
      },
      {
       "output_type": "stream",
       "stream": "stdout",
       "text": [
        "\n",
        "Reading /Users/Benjamin/AstroData/AllInOne/AIO_MgIIAbsorber_SDSS_SDSSRestFrame_Wave03600_07200A.fits."
       ]
      },
      {
       "output_type": "stream",
       "stream": "stdout",
       "text": [
        "\n"
       ]
      }
     ],
     "prompt_number": 3
    },
    {
     "cell_type": "code",
     "collapsed": false,
     "input": [
      "absorbers = absorberspec.absorber_readin()"
     ],
     "language": "python",
     "metadata": {},
     "outputs": [],
     "prompt_number": 4
    },
    {
     "cell_type": "code",
     "collapsed": false,
     "input": [
      "absorbers.shape"
     ],
     "language": "python",
     "metadata": {},
     "outputs": [
      {
       "metadata": {},
       "output_type": "pyout",
       "prompt_number": 5,
       "text": [
        "(35752,)"
       ]
      }
     ],
     "prompt_number": 5
    },
    {
     "cell_type": "code",
     "collapsed": false,
     "input": [
      "wave_pos = np.array([2200., 2900.])\n",
      "rest_loc = np.searchsorted(masterwave, wave_pos)\n",
      "outwave = masterwave[rest_loc[0]:rest_loc[1]]\n",
      "index = (where(absorbers['REW_MGII_2796']>0.8))[0]\n",
      "tmpflux = allflux[rest_loc[0]:rest_loc[1], index]\n",
      "tmpivar = allivar[rest_loc[0]:rest_loc[1], index]\n",
      "fluxmean = np.zeros((tmpflux.shape)[0])\n",
      "fluxmedian = np.zeros((tmpflux.shape)[0])\n",
      "fluxflag = np.ones(fluxmedian.size)\n",
      "for i in np.arange((tmpflux.shape)[0]):\n",
      "    iuse = (np.where(tmpivar[i,:]>0))[0]\n",
      "    fluxmedian[i] = np.median(tmpflux[i,iuse])\n",
      "    fluxmean[i] = np.mean(tmpflux[i,iuse])\n"
     ],
     "language": "python",
     "metadata": {},
     "outputs": [],
     "prompt_number": 13
    },
    {
     "cell_type": "code",
     "collapsed": false,
     "input": [
      "allflux[rest_loc[0]:rest_loc[1], 0]"
     ],
     "language": "python",
     "metadata": {},
     "outputs": [
      {
       "metadata": {},
       "output_type": "pyout",
       "prompt_number": 19,
       "text": [
        "array([ 0.,  0.,  0., ...,  0.,  0.,  0.])"
       ]
      }
     ],
     "prompt_number": 19
    },
    {
     "cell_type": "code",
     "collapsed": false,
     "input": [
      "import fitsio"
     ],
     "language": "python",
     "metadata": {},
     "outputs": [],
     "prompt_number": 1
    },
    {
     "cell_type": "code",
     "collapsed": false,
     "input": [
      "data = (fitsio.read('/Users/Benjamin/AstroData/AllInOne/AIO_MgIIAbsorber_SDSS_SDSSRestFrame_Wave01800_03600A.fits'))[0]"
     ],
     "language": "python",
     "metadata": {},
     "outputs": [],
     "prompt_number": 2
    },
    {
     "cell_type": "code",
     "collapsed": false,
     "input": [
      "data.shape"
     ],
     "language": "python",
     "metadata": {},
     "outputs": [
      {
       "metadata": {},
       "output_type": "pyout",
       "prompt_number": 3,
       "text": [
        "()"
       ]
      }
     ],
     "prompt_number": 3
    },
    {
     "cell_type": "code",
     "collapsed": false,
     "input": [],
     "language": "python",
     "metadata": {},
     "outputs": []
    }
   ],
   "metadata": {}
  }
 ]
}