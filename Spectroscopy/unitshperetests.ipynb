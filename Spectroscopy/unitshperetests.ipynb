{
 "metadata": {
  "name": "",
  "signature": "sha256:334ecf82fd94a158edfdfc1cbc5ac25fab0d11c69569026669597b70c1c53503"
 },
 "nbformat": 3,
 "nbformat_minor": 0,
 "worksheets": [
  {
   "cells": [
    {
     "cell_type": "code",
     "collapsed": false,
     "input": [
      "x = arange(10)\n",
      "y = arange(20)\n",
      "z = arange(30)"
     ],
     "language": "python",
     "metadata": {},
     "outputs": [],
     "prompt_number": 1
    },
    {
     "cell_type": "code",
     "collapsed": false,
     "input": [
      "c_[x,y,z]"
     ],
     "language": "python",
     "metadata": {},
     "outputs": [
      {
       "ename": "ValueError",
       "evalue": "all the input array dimensions except for the concatenation axis must match exactly",
       "output_type": "pyerr",
       "traceback": [
        "\u001b[0;31m---------------------------------------------------------------------------\u001b[0m\n\u001b[0;31mValueError\u001b[0m                                Traceback (most recent call last)",
        "\u001b[0;32m<ipython-input-2-848595eaffe0>\u001b[0m in \u001b[0;36m<module>\u001b[0;34m()\u001b[0m\n\u001b[0;32m----> 1\u001b[0;31m \u001b[0mc_\u001b[0m\u001b[0;34m[\u001b[0m\u001b[0mx\u001b[0m\u001b[0;34m,\u001b[0m\u001b[0my\u001b[0m\u001b[0;34m,\u001b[0m\u001b[0mz\u001b[0m\u001b[0;34m]\u001b[0m\u001b[0;34m\u001b[0m\u001b[0m\n\u001b[0m",
        "\u001b[0;32m/Users/Benjamin/Library/Enthought/Canopy_64bit/User/lib/python2.7/site-packages/numpy/lib/index_tricks.pyc\u001b[0m in \u001b[0;36m__getitem__\u001b[0;34m(self, key)\u001b[0m\n\u001b[1;32m    336\u001b[0m                 \u001b[0mobjs\u001b[0m\u001b[0;34m[\u001b[0m\u001b[0mk\u001b[0m\u001b[0;34m]\u001b[0m \u001b[0;34m=\u001b[0m \u001b[0mobjs\u001b[0m\u001b[0;34m[\u001b[0m\u001b[0mk\u001b[0m\u001b[0;34m]\u001b[0m\u001b[0;34m.\u001b[0m\u001b[0mastype\u001b[0m\u001b[0;34m(\u001b[0m\u001b[0mfinal_dtype\u001b[0m\u001b[0;34m)\u001b[0m\u001b[0;34m\u001b[0m\u001b[0m\n\u001b[1;32m    337\u001b[0m \u001b[0;34m\u001b[0m\u001b[0m\n\u001b[0;32m--> 338\u001b[0;31m         \u001b[0mres\u001b[0m \u001b[0;34m=\u001b[0m \u001b[0m_nx\u001b[0m\u001b[0;34m.\u001b[0m\u001b[0mconcatenate\u001b[0m\u001b[0;34m(\u001b[0m\u001b[0mtuple\u001b[0m\u001b[0;34m(\u001b[0m\u001b[0mobjs\u001b[0m\u001b[0;34m)\u001b[0m\u001b[0;34m,\u001b[0m \u001b[0maxis\u001b[0m\u001b[0;34m=\u001b[0m\u001b[0mself\u001b[0m\u001b[0;34m.\u001b[0m\u001b[0maxis\u001b[0m\u001b[0;34m)\u001b[0m\u001b[0;34m\u001b[0m\u001b[0m\n\u001b[0m\u001b[1;32m    339\u001b[0m         \u001b[0;32mreturn\u001b[0m \u001b[0mself\u001b[0m\u001b[0;34m.\u001b[0m\u001b[0m_retval\u001b[0m\u001b[0;34m(\u001b[0m\u001b[0mres\u001b[0m\u001b[0;34m)\u001b[0m\u001b[0;34m\u001b[0m\u001b[0m\n\u001b[1;32m    340\u001b[0m \u001b[0;34m\u001b[0m\u001b[0m\n",
        "\u001b[0;31mValueError\u001b[0m: all the input array dimensions except for the concatenation axis must match exactly"
       ]
      }
     ],
     "prompt_number": 2
    },
    {
     "cell_type": "code",
     "collapsed": false,
     "input": [
      "r_[x,y,z]"
     ],
     "language": "python",
     "metadata": {},
     "outputs": [
      {
       "metadata": {},
       "output_type": "pyout",
       "prompt_number": 3,
       "text": [
        "array([ 0,  1,  2,  3,  4,  5,  6,  7,  8,  9,  0,  1,  2,  3,  4,  5,  6,\n",
        "        7,  8,  9, 10, 11, 12, 13, 14, 15, 16, 17, 18, 19,  0,  1,  2,  3,\n",
        "        4,  5,  6,  7,  8,  9, 10, 11, 12, 13, 14, 15, 16, 17, 18, 19, 20,\n",
        "       21, 22, 23, 24, 25, 26, 27, 28, 29])"
       ]
      }
     ],
     "prompt_number": 3
    },
    {
     "cell_type": "code",
     "collapsed": false,
     "input": [
      "x = arange(10)\n",
      "y = arange(10)\n",
      "z = arange(10)"
     ],
     "language": "python",
     "metadata": {},
     "outputs": [],
     "prompt_number": 4
    },
    {
     "cell_type": "code",
     "collapsed": false,
     "input": [
      "c_[x,y,z]"
     ],
     "language": "python",
     "metadata": {},
     "outputs": [
      {
       "metadata": {},
       "output_type": "pyout",
       "prompt_number": 5,
       "text": [
        "array([[0, 0, 0],\n",
        "       [1, 1, 1],\n",
        "       [2, 2, 2],\n",
        "       [3, 3, 3],\n",
        "       [4, 4, 4],\n",
        "       [5, 5, 5],\n",
        "       [6, 6, 6],\n",
        "       [7, 7, 7],\n",
        "       [8, 8, 8],\n",
        "       [9, 9, 9]])"
       ]
      }
     ],
     "prompt_number": 5
    },
    {
     "cell_type": "code",
     "collapsed": false,
     "input": [
      "cc = c_[x,y,z]"
     ],
     "language": "python",
     "metadata": {},
     "outputs": [],
     "prompt_number": 6
    },
    {
     "cell_type": "code",
     "collapsed": false,
     "input": [
      "cc.shape"
     ],
     "language": "python",
     "metadata": {},
     "outputs": [
      {
       "metadata": {},
       "output_type": "pyout",
       "prompt_number": 7,
       "text": [
        "(10, 3)"
       ]
      }
     ],
     "prompt_number": 7
    },
    {
     "cell_type": "code",
     "collapsed": false,
     "input": [
      "import largescalestructure"
     ],
     "language": "python",
     "metadata": {},
     "outputs": [],
     "prompt_number": 8
    },
    {
     "cell_type": "code",
     "collapsed": false,
     "input": [
      "import largescalestructure as lss"
     ],
     "language": "python",
     "metadata": {},
     "outputs": [],
     "prompt_number": 9
    },
    {
     "cell_type": "code",
     "collapsed": false,
     "input": [
      "import datapath\n",
      "import fitsio\n",
      "clusters = fitsio.read('/Users/Benjamin/AstroData/Clusters/redmapper_dr8_public_v5.2_catalog.fits')"
     ],
     "language": "python",
     "metadata": {},
     "outputs": [],
     "prompt_number": 10
    },
    {
     "cell_type": "code",
     "collapsed": false,
     "input": [
      "ra = clusters['RA']\n",
      "dec = clusters['DEC']"
     ],
     "language": "python",
     "metadata": {},
     "outputs": [],
     "prompt_number": 11
    },
    {
     "cell_type": "code",
     "collapsed": false,
     "input": [
      "xx = clusters['PZ']\n",
      "xmaxindx = argmax(xx, axis=1)\n",
      "yy = clusters['PZBINS']\n",
      "z = yy[np.arange(25325),xmaxindx]\n",
      "zcoord = c_[z,ra,dec]"
     ],
     "language": "python",
     "metadata": {},
     "outputs": [],
     "prompt_number": 12
    },
    {
     "cell_type": "code",
     "collapsed": false,
     "input": [
      "reload(lss)"
     ],
     "language": "python",
     "metadata": {},
     "outputs": [
      {
       "metadata": {},
       "output_type": "pyout",
       "prompt_number": 13,
       "text": [
        "<module 'largescalestructure' from 'largescalestructure.py'>"
       ]
      }
     ],
     "prompt_number": 13
    },
    {
     "cell_type": "code",
     "collapsed": false,
     "input": [
      "lss.comoving_neighbors(zcoord,zcoord,nthneighbor=2,maxscale=5.)"
     ],
     "language": "python",
     "metadata": {},
     "outputs": [
      {
       "ename": "TypeError",
       "evalue": "comoving_distance() takes exactly 2 arguments (1 given)",
       "output_type": "pyerr",
       "traceback": [
        "\u001b[0;31m---------------------------------------------------------------------------\u001b[0m\n\u001b[0;31mTypeError\u001b[0m                                 Traceback (most recent call last)",
        "\u001b[0;32m<ipython-input-14-26382999b41c>\u001b[0m in \u001b[0;36m<module>\u001b[0;34m()\u001b[0m\n\u001b[0;32m----> 1\u001b[0;31m \u001b[0mlss\u001b[0m\u001b[0;34m.\u001b[0m\u001b[0mcomoving_neighbors\u001b[0m\u001b[0;34m(\u001b[0m\u001b[0mzcoord\u001b[0m\u001b[0;34m,\u001b[0m\u001b[0mzcoord\u001b[0m\u001b[0;34m,\u001b[0m\u001b[0mnthneighbor\u001b[0m\u001b[0;34m=\u001b[0m\u001b[0;36m2\u001b[0m\u001b[0;34m,\u001b[0m\u001b[0mmaxscale\u001b[0m\u001b[0;34m=\u001b[0m\u001b[0;36m5.\u001b[0m\u001b[0;34m)\u001b[0m\u001b[0;34m\u001b[0m\u001b[0m\n\u001b[0m",
        "\u001b[0;32m/Users/Benjamin/Code/BGT-Cosmology/Spectroscopy/largescalestructure.py\u001b[0m in \u001b[0;36mcomoving_neighbors\u001b[0;34m(zcoord1, zcoord2, nthneighbor, maxscale)\u001b[0m\n\u001b[1;32m     49\u001b[0m     \"\"\"\n\u001b[1;32m     50\u001b[0m     \"\"\"\n\u001b[0;32m---> 51\u001b[0;31m     \u001b[0mcoord1\u001b[0m \u001b[0;34m=\u001b[0m \u001b[0mradecz_to_comoving\u001b[0m\u001b[0;34m(\u001b[0m\u001b[0mzcoord1\u001b[0m\u001b[0;34m)\u001b[0m\u001b[0;34m\u001b[0m\u001b[0m\n\u001b[0m\u001b[1;32m     52\u001b[0m     \u001b[0mcoord2\u001b[0m \u001b[0;34m=\u001b[0m \u001b[0mradecz_to_comoving\u001b[0m\u001b[0;34m(\u001b[0m\u001b[0mzcoord2\u001b[0m\u001b[0;34m)\u001b[0m\u001b[0;34m\u001b[0m\u001b[0m\n\u001b[1;32m     53\u001b[0m     \u001b[0mkdt\u001b[0m \u001b[0;34m=\u001b[0m \u001b[0mKDT\u001b[0m\u001b[0;34m(\u001b[0m\u001b[0mcoord2\u001b[0m\u001b[0;34m)\u001b[0m\u001b[0;34m\u001b[0m\u001b[0m\n",
        "\u001b[0;32m/Users/Benjamin/Code/BGT-Cosmology/Spectroscopy/largescalestructure.py\u001b[0m in \u001b[0;36mradecz_to_comoving\u001b[0;34m(zcoord)\u001b[0m\n\u001b[1;32m     42\u001b[0m     \"\"\"\n\u001b[1;32m     43\u001b[0m     \u001b[0;31m# use transverse comoving distance dM instead?\u001b[0m\u001b[0;34m\u001b[0m\u001b[0;34m\u001b[0m\u001b[0m\n\u001b[0;32m---> 44\u001b[0;31m     \u001b[0mdc\u001b[0m \u001b[0;34m=\u001b[0m \u001b[0mcosmo\u001b[0m\u001b[0;34m.\u001b[0m\u001b[0mcomoving_distance\u001b[0m\u001b[0;34m(\u001b[0m\u001b[0mzcoord\u001b[0m\u001b[0;34m[\u001b[0m\u001b[0;34m:\u001b[0m\u001b[0;34m,\u001b[0m\u001b[0;36m0\u001b[0m\u001b[0;34m]\u001b[0m\u001b[0;34m)\u001b[0m\u001b[0;34m\u001b[0m\u001b[0m\n\u001b[0m\u001b[1;32m     45\u001b[0m     \u001b[0mscoord\u001b[0m \u001b[0;34m=\u001b[0m \u001b[0mc_\u001b[0m\u001b[0;34m[\u001b[0m\u001b[0mdc\u001b[0m\u001b[0;34m,\u001b[0m \u001b[0mzcoord\u001b[0m\u001b[0;34m[\u001b[0m\u001b[0;34m:\u001b[0m\u001b[0;34m,\u001b[0m\u001b[0;36m1\u001b[0m\u001b[0;34m]\u001b[0m\u001b[0;34m,\u001b[0m \u001b[0mzcoord\u001b[0m\u001b[0;34m[\u001b[0m\u001b[0;34m:\u001b[0m\u001b[0;36m2\u001b[0m\u001b[0;34m]\u001b[0m\u001b[0;34m]\u001b[0m\u001b[0;34m\u001b[0m\u001b[0m\n\u001b[1;32m     46\u001b[0m     \u001b[0;32mreturn\u001b[0m \u001b[0mspherical_to_cartesian\u001b[0m\u001b[0;34m(\u001b[0m\u001b[0mscoord\u001b[0m\u001b[0;34m)\u001b[0m\u001b[0;34m\u001b[0m\u001b[0m\n",
        "\u001b[0;31mTypeError\u001b[0m: comoving_distance() takes exactly 2 arguments (1 given)"
       ]
      }
     ],
     "prompt_number": 14
    },
    {
     "cell_type": "code",
     "collapsed": false,
     "input": [
      "reload(lss)"
     ],
     "language": "python",
     "metadata": {},
     "outputs": [
      {
       "metadata": {},
       "output_type": "pyout",
       "prompt_number": 15,
       "text": [
        "<module 'largescalestructure' from 'largescalestructure.py'>"
       ]
      }
     ],
     "prompt_number": 15
    },
    {
     "cell_type": "code",
     "collapsed": false,
     "input": [
      "lss.comoving_neighbors(zcoord,zcoord,nthneighbor=2,maxscale=5.)"
     ],
     "language": "python",
     "metadata": {},
     "outputs": [
      {
       "ename": "NameError",
       "evalue": "global name 'c_' is not defined",
       "output_type": "pyerr",
       "traceback": [
        "\u001b[0;31m---------------------------------------------------------------------------\u001b[0m\n\u001b[0;31mNameError\u001b[0m                                 Traceback (most recent call last)",
        "\u001b[0;32m<ipython-input-16-26382999b41c>\u001b[0m in \u001b[0;36m<module>\u001b[0;34m()\u001b[0m\n\u001b[0;32m----> 1\u001b[0;31m \u001b[0mlss\u001b[0m\u001b[0;34m.\u001b[0m\u001b[0mcomoving_neighbors\u001b[0m\u001b[0;34m(\u001b[0m\u001b[0mzcoord\u001b[0m\u001b[0;34m,\u001b[0m\u001b[0mzcoord\u001b[0m\u001b[0;34m,\u001b[0m\u001b[0mnthneighbor\u001b[0m\u001b[0;34m=\u001b[0m\u001b[0;36m2\u001b[0m\u001b[0;34m,\u001b[0m\u001b[0mmaxscale\u001b[0m\u001b[0;34m=\u001b[0m\u001b[0;36m5.\u001b[0m\u001b[0;34m)\u001b[0m\u001b[0;34m\u001b[0m\u001b[0m\n\u001b[0m",
        "\u001b[0;32m/Users/Benjamin/Code/BGT-Cosmology/Spectroscopy/largescalestructure.py\u001b[0m in \u001b[0;36mcomoving_neighbors\u001b[0;34m(zcoord1, zcoord2, nthneighbor, maxscale)\u001b[0m\n\u001b[1;32m     50\u001b[0m     \"\"\"\n\u001b[1;32m     51\u001b[0m     \"\"\"\n\u001b[0;32m---> 52\u001b[0;31m     \u001b[0mcoord1\u001b[0m \u001b[0;34m=\u001b[0m \u001b[0mradecz_to_comoving\u001b[0m\u001b[0;34m(\u001b[0m\u001b[0mzcoord1\u001b[0m\u001b[0;34m)\u001b[0m\u001b[0;34m\u001b[0m\u001b[0m\n\u001b[0m\u001b[1;32m     53\u001b[0m     \u001b[0mcoord2\u001b[0m \u001b[0;34m=\u001b[0m \u001b[0mradecz_to_comoving\u001b[0m\u001b[0;34m(\u001b[0m\u001b[0mzcoord2\u001b[0m\u001b[0;34m)\u001b[0m\u001b[0;34m\u001b[0m\u001b[0m\n\u001b[1;32m     54\u001b[0m     \u001b[0mkdt\u001b[0m \u001b[0;34m=\u001b[0m \u001b[0mKDT\u001b[0m\u001b[0;34m(\u001b[0m\u001b[0mcoord2\u001b[0m\u001b[0;34m)\u001b[0m\u001b[0;34m\u001b[0m\u001b[0m\n",
        "\u001b[0;32m/Users/Benjamin/Code/BGT-Cosmology/Spectroscopy/largescalestructure.py\u001b[0m in \u001b[0;36mradecz_to_comoving\u001b[0;34m(zcoord)\u001b[0m\n\u001b[1;32m     44\u001b[0m     \u001b[0;31m# use transverse comoving distance dM instead?\u001b[0m\u001b[0;34m\u001b[0m\u001b[0;34m\u001b[0m\u001b[0m\n\u001b[1;32m     45\u001b[0m     \u001b[0mdc\u001b[0m \u001b[0;34m=\u001b[0m \u001b[0mcosmo\u001b[0m\u001b[0;34m.\u001b[0m\u001b[0mcomoving_distance\u001b[0m\u001b[0;34m(\u001b[0m\u001b[0mzcoord\u001b[0m\u001b[0;34m[\u001b[0m\u001b[0;34m:\u001b[0m\u001b[0;34m,\u001b[0m\u001b[0;36m0\u001b[0m\u001b[0;34m]\u001b[0m\u001b[0;34m,\u001b[0m \u001b[0m_CosPar\u001b[0m\u001b[0;34m)\u001b[0m\u001b[0;34m\u001b[0m\u001b[0m\n\u001b[0;32m---> 46\u001b[0;31m     \u001b[0mscoord\u001b[0m \u001b[0;34m=\u001b[0m \u001b[0mc_\u001b[0m\u001b[0;34m[\u001b[0m\u001b[0mdc\u001b[0m\u001b[0;34m,\u001b[0m \u001b[0mzcoord\u001b[0m\u001b[0;34m[\u001b[0m\u001b[0;34m:\u001b[0m\u001b[0;34m,\u001b[0m\u001b[0;36m1\u001b[0m\u001b[0;34m]\u001b[0m\u001b[0;34m,\u001b[0m \u001b[0mzcoord\u001b[0m\u001b[0;34m[\u001b[0m\u001b[0;34m:\u001b[0m\u001b[0;36m2\u001b[0m\u001b[0;34m]\u001b[0m\u001b[0;34m]\u001b[0m\u001b[0;34m\u001b[0m\u001b[0m\n\u001b[0m\u001b[1;32m     47\u001b[0m     \u001b[0;32mreturn\u001b[0m \u001b[0mspherical_to_cartesian\u001b[0m\u001b[0;34m(\u001b[0m\u001b[0mscoord\u001b[0m\u001b[0;34m)\u001b[0m\u001b[0;34m\u001b[0m\u001b[0m\n\u001b[1;32m     48\u001b[0m \u001b[0;34m\u001b[0m\u001b[0m\n",
        "\u001b[0;31mNameError\u001b[0m: global name 'c_' is not defined"
       ]
      }
     ],
     "prompt_number": 16
    },
    {
     "cell_type": "code",
     "collapsed": false,
     "input": [
      "reload(lss)"
     ],
     "language": "python",
     "metadata": {},
     "outputs": [
      {
       "metadata": {},
       "output_type": "pyout",
       "prompt_number": 17,
       "text": [
        "<module 'largescalestructure' from 'largescalestructure.py'>"
       ]
      }
     ],
     "prompt_number": 17
    },
    {
     "cell_type": "code",
     "collapsed": false,
     "input": [
      "lss.comoving_neighbors(zcoord,zcoord,nthneighbor=2,maxscale=5.)"
     ],
     "language": "python",
     "metadata": {},
     "outputs": [
      {
       "ename": "ValueError",
       "evalue": "all the input array dimensions except for the concatenation axis must match exactly",
       "output_type": "pyerr",
       "traceback": [
        "\u001b[0;31m---------------------------------------------------------------------------\u001b[0m\n\u001b[0;31mValueError\u001b[0m                                Traceback (most recent call last)",
        "\u001b[0;32m<ipython-input-18-26382999b41c>\u001b[0m in \u001b[0;36m<module>\u001b[0;34m()\u001b[0m\n\u001b[0;32m----> 1\u001b[0;31m \u001b[0mlss\u001b[0m\u001b[0;34m.\u001b[0m\u001b[0mcomoving_neighbors\u001b[0m\u001b[0;34m(\u001b[0m\u001b[0mzcoord\u001b[0m\u001b[0;34m,\u001b[0m\u001b[0mzcoord\u001b[0m\u001b[0;34m,\u001b[0m\u001b[0mnthneighbor\u001b[0m\u001b[0;34m=\u001b[0m\u001b[0;36m2\u001b[0m\u001b[0;34m,\u001b[0m\u001b[0mmaxscale\u001b[0m\u001b[0;34m=\u001b[0m\u001b[0;36m5.\u001b[0m\u001b[0;34m)\u001b[0m\u001b[0;34m\u001b[0m\u001b[0m\n\u001b[0m",
        "\u001b[0;32m/Users/Benjamin/Code/BGT-Cosmology/Spectroscopy/largescalestructure.py\u001b[0m in \u001b[0;36mcomoving_neighbors\u001b[0;34m(zcoord1, zcoord2, nthneighbor, maxscale)\u001b[0m\n\u001b[1;32m     50\u001b[0m     \"\"\"\n\u001b[1;32m     51\u001b[0m     \"\"\"\n\u001b[0;32m---> 52\u001b[0;31m     \u001b[0mcoord1\u001b[0m \u001b[0;34m=\u001b[0m \u001b[0mradecz_to_comoving\u001b[0m\u001b[0;34m(\u001b[0m\u001b[0mzcoord1\u001b[0m\u001b[0;34m)\u001b[0m\u001b[0;34m\u001b[0m\u001b[0m\n\u001b[0m\u001b[1;32m     53\u001b[0m     \u001b[0mcoord2\u001b[0m \u001b[0;34m=\u001b[0m \u001b[0mradecz_to_comoving\u001b[0m\u001b[0;34m(\u001b[0m\u001b[0mzcoord2\u001b[0m\u001b[0;34m)\u001b[0m\u001b[0;34m\u001b[0m\u001b[0m\n\u001b[1;32m     54\u001b[0m     \u001b[0mkdt\u001b[0m \u001b[0;34m=\u001b[0m \u001b[0mKDT\u001b[0m\u001b[0;34m(\u001b[0m\u001b[0mcoord2\u001b[0m\u001b[0;34m)\u001b[0m\u001b[0;34m\u001b[0m\u001b[0m\n",
        "\u001b[0;32m/Users/Benjamin/Code/BGT-Cosmology/Spectroscopy/largescalestructure.py\u001b[0m in \u001b[0;36mradecz_to_comoving\u001b[0;34m(zcoord)\u001b[0m\n\u001b[1;32m     44\u001b[0m     \u001b[0;31m# use transverse comoving distance dM instead?\u001b[0m\u001b[0;34m\u001b[0m\u001b[0;34m\u001b[0m\u001b[0m\n\u001b[1;32m     45\u001b[0m     \u001b[0mdc\u001b[0m \u001b[0;34m=\u001b[0m \u001b[0mcosmo\u001b[0m\u001b[0;34m.\u001b[0m\u001b[0mcomoving_distance\u001b[0m\u001b[0;34m(\u001b[0m\u001b[0mzcoord\u001b[0m\u001b[0;34m[\u001b[0m\u001b[0;34m:\u001b[0m\u001b[0;34m,\u001b[0m\u001b[0;36m0\u001b[0m\u001b[0;34m]\u001b[0m\u001b[0;34m,\u001b[0m \u001b[0m_CosPar\u001b[0m\u001b[0;34m)\u001b[0m\u001b[0;34m\u001b[0m\u001b[0m\n\u001b[0;32m---> 46\u001b[0;31m     \u001b[0mscoord\u001b[0m \u001b[0;34m=\u001b[0m \u001b[0mnp\u001b[0m\u001b[0;34m.\u001b[0m\u001b[0mc_\u001b[0m\u001b[0;34m[\u001b[0m\u001b[0mdc\u001b[0m\u001b[0;34m,\u001b[0m \u001b[0mzcoord\u001b[0m\u001b[0;34m[\u001b[0m\u001b[0;34m:\u001b[0m\u001b[0;34m,\u001b[0m\u001b[0;36m1\u001b[0m\u001b[0;34m]\u001b[0m\u001b[0;34m,\u001b[0m \u001b[0mzcoord\u001b[0m\u001b[0;34m[\u001b[0m\u001b[0;34m:\u001b[0m\u001b[0;36m2\u001b[0m\u001b[0;34m]\u001b[0m\u001b[0;34m]\u001b[0m\u001b[0;34m\u001b[0m\u001b[0m\n\u001b[0m\u001b[1;32m     47\u001b[0m     \u001b[0;32mreturn\u001b[0m \u001b[0mspherical_to_cartesian\u001b[0m\u001b[0;34m(\u001b[0m\u001b[0mscoord\u001b[0m\u001b[0;34m)\u001b[0m\u001b[0;34m\u001b[0m\u001b[0m\n\u001b[1;32m     48\u001b[0m \u001b[0;34m\u001b[0m\u001b[0m\n",
        "\u001b[0;32m/Users/Benjamin/Library/Enthought/Canopy_64bit/User/lib/python2.7/site-packages/numpy/lib/index_tricks.pyc\u001b[0m in \u001b[0;36m__getitem__\u001b[0;34m(self, key)\u001b[0m\n\u001b[1;32m    336\u001b[0m                 \u001b[0mobjs\u001b[0m\u001b[0;34m[\u001b[0m\u001b[0mk\u001b[0m\u001b[0;34m]\u001b[0m \u001b[0;34m=\u001b[0m \u001b[0mobjs\u001b[0m\u001b[0;34m[\u001b[0m\u001b[0mk\u001b[0m\u001b[0;34m]\u001b[0m\u001b[0;34m.\u001b[0m\u001b[0mastype\u001b[0m\u001b[0;34m(\u001b[0m\u001b[0mfinal_dtype\u001b[0m\u001b[0;34m)\u001b[0m\u001b[0;34m\u001b[0m\u001b[0m\n\u001b[1;32m    337\u001b[0m \u001b[0;34m\u001b[0m\u001b[0m\n\u001b[0;32m--> 338\u001b[0;31m         \u001b[0mres\u001b[0m \u001b[0;34m=\u001b[0m \u001b[0m_nx\u001b[0m\u001b[0;34m.\u001b[0m\u001b[0mconcatenate\u001b[0m\u001b[0;34m(\u001b[0m\u001b[0mtuple\u001b[0m\u001b[0;34m(\u001b[0m\u001b[0mobjs\u001b[0m\u001b[0;34m)\u001b[0m\u001b[0;34m,\u001b[0m \u001b[0maxis\u001b[0m\u001b[0;34m=\u001b[0m\u001b[0mself\u001b[0m\u001b[0;34m.\u001b[0m\u001b[0maxis\u001b[0m\u001b[0;34m)\u001b[0m\u001b[0;34m\u001b[0m\u001b[0m\n\u001b[0m\u001b[1;32m    339\u001b[0m         \u001b[0;32mreturn\u001b[0m \u001b[0mself\u001b[0m\u001b[0;34m.\u001b[0m\u001b[0m_retval\u001b[0m\u001b[0;34m(\u001b[0m\u001b[0mres\u001b[0m\u001b[0;34m)\u001b[0m\u001b[0;34m\u001b[0m\u001b[0m\n\u001b[1;32m    340\u001b[0m \u001b[0;34m\u001b[0m\u001b[0m\n",
        "\u001b[0;31mValueError\u001b[0m: all the input array dimensions except for the concatenation axis must match exactly"
       ]
      }
     ],
     "prompt_number": 18
    },
    {
     "cell_type": "code",
     "collapsed": false,
     "input": [
      "zcoord.shape"
     ],
     "language": "python",
     "metadata": {},
     "outputs": [
      {
       "metadata": {},
       "output_type": "pyout",
       "prompt_number": 19,
       "text": [
        "(25325, 3)"
       ]
      }
     ],
     "prompt_number": 19
    },
    {
     "cell_type": "code",
     "collapsed": false,
     "input": [
      "reload(lss)"
     ],
     "language": "python",
     "metadata": {},
     "outputs": [
      {
       "metadata": {},
       "output_type": "pyout",
       "prompt_number": 20,
       "text": [
        "<module 'largescalestructure' from 'largescalestructure.py'>"
       ]
      }
     ],
     "prompt_number": 20
    },
    {
     "cell_type": "code",
     "collapsed": false,
     "input": [
      "lss.comoving_neighbors(zcoord,zcoord,nthneighbor=2,maxscale=5.)"
     ],
     "language": "python",
     "metadata": {},
     "outputs": [
      {
       "ename": "NameError",
       "evalue": "global name 'scoord1' is not defined",
       "output_type": "pyerr",
       "traceback": [
        "\u001b[0;31m---------------------------------------------------------------------------\u001b[0m\n\u001b[0;31mNameError\u001b[0m                                 Traceback (most recent call last)",
        "\u001b[0;32m<ipython-input-21-26382999b41c>\u001b[0m in \u001b[0;36m<module>\u001b[0;34m()\u001b[0m\n\u001b[0;32m----> 1\u001b[0;31m \u001b[0mlss\u001b[0m\u001b[0;34m.\u001b[0m\u001b[0mcomoving_neighbors\u001b[0m\u001b[0;34m(\u001b[0m\u001b[0mzcoord\u001b[0m\u001b[0;34m,\u001b[0m\u001b[0mzcoord\u001b[0m\u001b[0;34m,\u001b[0m\u001b[0mnthneighbor\u001b[0m\u001b[0;34m=\u001b[0m\u001b[0;36m2\u001b[0m\u001b[0;34m,\u001b[0m\u001b[0mmaxscale\u001b[0m\u001b[0;34m=\u001b[0m\u001b[0;36m5.\u001b[0m\u001b[0;34m)\u001b[0m\u001b[0;34m\u001b[0m\u001b[0m\n\u001b[0m",
        "\u001b[0;32m/Users/Benjamin/Code/BGT-Cosmology/Spectroscopy/largescalestructure.py\u001b[0m in \u001b[0;36mcomoving_neighbors\u001b[0;34m(zcoord1, zcoord2, nthneighbor, maxscale)\u001b[0m\n\u001b[1;32m     60\u001b[0m         \u001b[0;32mraise\u001b[0m \u001b[0mValueError\u001b[0m\u001b[0;34m(\u001b[0m\u001b[0;34m'invalid nnearest {0}'\u001b[0m\u001b[0;34m.\u001b[0m\u001b[0mformat\u001b[0m\u001b[0;34m(\u001b[0m\u001b[0mnthneighbor\u001b[0m\u001b[0;34m)\u001b[0m\u001b[0;34m)\u001b[0m\u001b[0;34m\u001b[0m\u001b[0m\n\u001b[1;32m     61\u001b[0m \u001b[0;34m\u001b[0m\u001b[0m\n\u001b[0;32m---> 62\u001b[0;31m     \u001b[0mds\u001b[0m \u001b[0;34m=\u001b[0m \u001b[0mlinalg\u001b[0m\u001b[0;34m.\u001b[0m\u001b[0mnorm\u001b[0m\u001b[0;34m(\u001b[0m\u001b[0mscoord1\u001b[0m\u001b[0;34m[\u001b[0m\u001b[0;34m:\u001b[0m\u001b[0;34m,\u001b[0m\u001b[0;36m1\u001b[0m\u001b[0;34m:\u001b[0m\u001b[0;36m3\u001b[0m\u001b[0;34m]\u001b[0m\u001b[0;34m-\u001b[0m\u001b[0mscoord2\u001b[0m\u001b[0;34m[\u001b[0m\u001b[0mindx2\u001b[0m\u001b[0;34m,\u001b[0m\u001b[0;36m1\u001b[0m\u001b[0;34m:\u001b[0m\u001b[0;36m3\u001b[0m\u001b[0;34m]\u001b[0m\u001b[0;34m)\u001b[0m\u001b[0;34m\u001b[0m\u001b[0m\n\u001b[0m\u001b[1;32m     63\u001b[0m     \u001b[0mindx1\u001b[0m \u001b[0;34m=\u001b[0m \u001b[0mnp\u001b[0m\u001b[0;34m.\u001b[0m\u001b[0marange\u001b[0m\u001b[0;34m(\u001b[0m\u001b[0mcoord1\u001b[0m\u001b[0;34m.\u001b[0m\u001b[0msize\u001b[0m\u001b[0;34m/\u001b[0m\u001b[0;36m3\u001b[0m\u001b[0;34m)\u001b[0m\u001b[0;34m\u001b[0m\u001b[0m\n\u001b[1;32m     64\u001b[0m     \u001b[0;32mif\u001b[0m \u001b[0mmaxscale\u001b[0m \u001b[0;34m!=\u001b[0m \u001b[0mNone\u001b[0m\u001b[0;34m:\u001b[0m\u001b[0;34m\u001b[0m\u001b[0m\n",
        "\u001b[0;31mNameError\u001b[0m: global name 'scoord1' is not defined"
       ]
      }
     ],
     "prompt_number": 21
    },
    {
     "cell_type": "code",
     "collapsed": false,
     "input": [
      "reload(lss)"
     ],
     "language": "python",
     "metadata": {},
     "outputs": [
      {
       "metadata": {},
       "output_type": "pyout",
       "prompt_number": 22,
       "text": [
        "<module 'largescalestructure' from 'largescalestructure.py'>"
       ]
      }
     ],
     "prompt_number": 22
    },
    {
     "cell_type": "code",
     "collapsed": false,
     "input": [
      "indx1, indx2, ds = lss.comoving_neighbors(zcoord,zcoord,nthneighbor=2,maxscale=5.)"
     ],
     "language": "python",
     "metadata": {},
     "outputs": [
      {
       "ename": "NameError",
       "evalue": "global name 'coord2' is not defined",
       "output_type": "pyerr",
       "traceback": [
        "\u001b[0;31m---------------------------------------------------------------------------\u001b[0m\n\u001b[0;31mNameError\u001b[0m                                 Traceback (most recent call last)",
        "\u001b[0;32m<ipython-input-23-2c6df29afe90>\u001b[0m in \u001b[0;36m<module>\u001b[0;34m()\u001b[0m\n\u001b[0;32m----> 1\u001b[0;31m \u001b[0mindx1\u001b[0m\u001b[0;34m,\u001b[0m \u001b[0mindx2\u001b[0m\u001b[0;34m,\u001b[0m \u001b[0mds\u001b[0m \u001b[0;34m=\u001b[0m \u001b[0mlss\u001b[0m\u001b[0;34m.\u001b[0m\u001b[0mcomoving_neighbors\u001b[0m\u001b[0;34m(\u001b[0m\u001b[0mzcoord\u001b[0m\u001b[0;34m,\u001b[0m\u001b[0mzcoord\u001b[0m\u001b[0;34m,\u001b[0m\u001b[0mnthneighbor\u001b[0m\u001b[0;34m=\u001b[0m\u001b[0;36m2\u001b[0m\u001b[0;34m,\u001b[0m\u001b[0mmaxscale\u001b[0m\u001b[0;34m=\u001b[0m\u001b[0;36m5.\u001b[0m\u001b[0;34m)\u001b[0m\u001b[0;34m\u001b[0m\u001b[0m\n\u001b[0m",
        "\u001b[0;32m/Users/Benjamin/Code/BGT-Cosmology/Spectroscopy/largescalestructure.py\u001b[0m in \u001b[0;36mcomoving_neighbors\u001b[0;34m(zcoord1, zcoord2, nthneighbor, maxscale)\u001b[0m\n\u001b[1;32m     52\u001b[0m     \u001b[0mccoord1\u001b[0m \u001b[0;34m=\u001b[0m \u001b[0mradecz_to_comoving\u001b[0m\u001b[0;34m(\u001b[0m\u001b[0mzcoord1\u001b[0m\u001b[0;34m)\u001b[0m\u001b[0;34m\u001b[0m\u001b[0m\n\u001b[1;32m     53\u001b[0m     \u001b[0mccoord2\u001b[0m \u001b[0;34m=\u001b[0m \u001b[0mradecz_to_comoving\u001b[0m\u001b[0;34m(\u001b[0m\u001b[0mzcoord2\u001b[0m\u001b[0;34m)\u001b[0m\u001b[0;34m\u001b[0m\u001b[0m\n\u001b[0;32m---> 54\u001b[0;31m     \u001b[0mkdt\u001b[0m \u001b[0;34m=\u001b[0m \u001b[0mKDT\u001b[0m\u001b[0;34m(\u001b[0m\u001b[0mcoord2\u001b[0m\u001b[0;34m)\u001b[0m\u001b[0;34m\u001b[0m\u001b[0m\n\u001b[0m\u001b[1;32m     55\u001b[0m     \u001b[0;32mif\u001b[0m \u001b[0mnthneighbor\u001b[0m \u001b[0;34m==\u001b[0m \u001b[0;36m1\u001b[0m\u001b[0;34m:\u001b[0m\u001b[0;34m\u001b[0m\u001b[0m\n\u001b[1;32m     56\u001b[0m         \u001b[0mindx2\u001b[0m \u001b[0;34m=\u001b[0m \u001b[0mkdt\u001b[0m\u001b[0;34m.\u001b[0m\u001b[0mquery\u001b[0m\u001b[0;34m(\u001b[0m\u001b[0mcoord1\u001b[0m\u001b[0;34m)\u001b[0m\u001b[0;34m[\u001b[0m\u001b[0;36m1\u001b[0m\u001b[0;34m]\u001b[0m\u001b[0;34m\u001b[0m\u001b[0m\n",
        "\u001b[0;31mNameError\u001b[0m: global name 'coord2' is not defined"
       ]
      }
     ],
     "prompt_number": 23
    },
    {
     "cell_type": "code",
     "collapsed": false,
     "input": [
      "reload(lss)"
     ],
     "language": "python",
     "metadata": {},
     "outputs": [
      {
       "metadata": {},
       "output_type": "pyout",
       "prompt_number": 24,
       "text": [
        "<module 'largescalestructure' from 'largescalestructure.py'>"
       ]
      }
     ],
     "prompt_number": 24
    },
    {
     "cell_type": "code",
     "collapsed": false,
     "input": [
      "indx1, indx2, ds = lss.comoving_neighbors(zcoord,zcoord,nthneighbor=2,maxscale=5.)"
     ],
     "language": "python",
     "metadata": {},
     "outputs": [],
     "prompt_number": 25
    },
    {
     "cell_type": "code",
     "collapsed": false,
     "input": [
      "indx1.shape"
     ],
     "language": "python",
     "metadata": {},
     "outputs": [
      {
       "metadata": {},
       "output_type": "pyout",
       "prompt_number": 26,
       "text": [
        "()"
       ]
      }
     ],
     "prompt_number": 26
    },
    {
     "cell_type": "code",
     "collapsed": false,
     "input": [
      "lss.cosmo.comoving_distance(1.0, lss._CosPar)"
     ],
     "language": "python",
     "metadata": {},
     "outputs": [
      {
       "metadata": {},
       "output_type": "pyout",
       "prompt_number": 28,
       "text": [
        "3303.8288058874682"
       ]
      }
     ],
     "prompt_number": 28
    },
    {
     "cell_type": "code",
     "collapsed": false,
     "input": [
      "Pi"
     ],
     "language": "python",
     "metadata": {},
     "outputs": [
      {
       "ename": "NameError",
       "evalue": "name 'Pi' is not defined",
       "output_type": "pyerr",
       "traceback": [
        "\u001b[0;31m---------------------------------------------------------------------------\u001b[0m\n\u001b[0;31mNameError\u001b[0m                                 Traceback (most recent call last)",
        "\u001b[0;32m<ipython-input-29-38a0d74848bd>\u001b[0m in \u001b[0;36m<module>\u001b[0;34m()\u001b[0m\n\u001b[0;32m----> 1\u001b[0;31m \u001b[0mPi\u001b[0m\u001b[0;34m\u001b[0m\u001b[0m\n\u001b[0m",
        "\u001b[0;31mNameError\u001b[0m: name 'Pi' is not defined"
       ]
      }
     ],
     "prompt_number": 29
    },
    {
     "cell_type": "code",
     "collapsed": false,
     "input": [
      "pi"
     ],
     "language": "python",
     "metadata": {},
     "outputs": [
      {
       "metadata": {},
       "output_type": "pyout",
       "prompt_number": 30,
       "text": [
        "3.141592653589793"
       ]
      }
     ],
     "prompt_number": 30
    },
    {
     "cell_type": "code",
     "collapsed": false,
     "input": [
      "np.pi"
     ],
     "language": "python",
     "metadata": {},
     "outputs": [
      {
       "metadata": {},
       "output_type": "pyout",
       "prompt_number": 31,
       "text": [
        "3.141592653589793"
       ]
      }
     ],
     "prompt_number": 31
    },
    {
     "cell_type": "code",
     "collapsed": false,
     "input": [
      "reload(lss)"
     ],
     "language": "python",
     "metadata": {},
     "outputs": [
      {
       "metadata": {},
       "output_type": "pyout",
       "prompt_number": 32,
       "text": [
        "<module 'largescalestructure' from 'largescalestructure.py'>"
       ]
      }
     ],
     "prompt_number": 32
    },
    {
     "cell_type": "code",
     "collapsed": false,
     "input": [
      "indx1, indx2, ds = lss.comoving_neighbors(zcoord,zcoord,nthneighbor=2,maxscale=5.)"
     ],
     "language": "python",
     "metadata": {},
     "outputs": [],
     "prompt_number": 33
    },
    {
     "cell_type": "code",
     "collapsed": false,
     "input": [
      "indx1.shape"
     ],
     "language": "python",
     "metadata": {},
     "outputs": [
      {
       "metadata": {},
       "output_type": "pyout",
       "prompt_number": 34,
       "text": [
        "()"
       ]
      }
     ],
     "prompt_number": 34
    },
    {
     "cell_type": "code",
     "collapsed": false,
     "input": [
      "ds"
     ],
     "language": "python",
     "metadata": {},
     "outputs": [
      {
       "metadata": {},
       "output_type": "pyout",
       "prompt_number": 35,
       "text": [
        "array([], dtype=float64)"
       ]
      }
     ],
     "prompt_number": 35
    },
    {
     "cell_type": "code",
     "collapsed": false,
     "input": [
      "zcoord[0:10,:]"
     ],
     "language": "python",
     "metadata": {},
     "outputs": [
      {
       "metadata": {},
       "output_type": "pyout",
       "prompt_number": 36,
       "text": [
        "array([[  9.55104157e-02,   2.39583329e+02,   2.72334129e+01],\n",
        "       [  2.32500643e-01,   2.50082548e+02,   4.67115314e+01],\n",
        "       [  1.81948349e-01,   1.97872957e+02,  -1.34111628e+00],\n",
        "       [  1.70400381e-01,   1.37303121e+02,   1.09747469e+01],\n",
        "       [  3.95684958e-01,   8.03426455e+00,   1.81070239e+01],\n",
        "       [  3.21887910e-01,   1.50558906e+02,   2.05379494e+01],\n",
        "       [  2.31705472e-01,   2.03833723e+02,   4.10011464e+01],\n",
        "       [  4.38676506e-01,   3.40832476e+02,  -9.59192011e+00],\n",
        "       [  1.27487645e-01,   1.26371092e+02,   4.71335713e+01],\n",
        "       [  2.83148289e-01,   1.98771816e+02,   5.18174456e+01]])"
       ]
      }
     ],
     "prompt_number": 36
    },
    {
     "cell_type": "code",
     "collapsed": false,
     "input": [
      "ra[0:10]"
     ],
     "language": "python",
     "metadata": {},
     "outputs": [
      {
       "metadata": {},
       "output_type": "pyout",
       "prompt_number": 37,
       "text": [
        "array([ 239.58332907,  250.08254839,  197.87295717,  137.30312092,\n",
        "          8.03426455,  150.55890608,  203.83372268,  340.83247584,\n",
        "        126.37109234,  198.77181589])"
       ]
      }
     ],
     "prompt_number": 37
    },
    {
     "cell_type": "code",
     "collapsed": false,
     "input": [
      "zcoord.shape"
     ],
     "language": "python",
     "metadata": {},
     "outputs": [
      {
       "metadata": {},
       "output_type": "pyout",
       "prompt_number": 38,
       "text": [
        "(25325, 3)"
       ]
      }
     ],
     "prompt_number": 38
    },
    {
     "cell_type": "code",
     "collapsed": false,
     "input": [
      "ra.shape\n",
      "dec.shape"
     ],
     "language": "python",
     "metadata": {},
     "outputs": [
      {
       "metadata": {},
       "output_type": "pyout",
       "prompt_number": 39,
       "text": [
        "(25325,)"
       ]
      }
     ],
     "prompt_number": 39
    },
    {
     "cell_type": "code",
     "collapsed": false,
     "input": [
      "dec[0:10]"
     ],
     "language": "python",
     "metadata": {},
     "outputs": [
      {
       "metadata": {},
       "output_type": "pyout",
       "prompt_number": 40,
       "text": [
        "array([ 27.23341292,  46.71153135,  -1.34111628,  10.97474695,\n",
        "        18.10702394,  20.53794937,  41.00114644,  -9.59192011,\n",
        "        47.1335713 ,  51.81744556])"
       ]
      }
     ],
     "prompt_number": 40
    },
    {
     "cell_type": "code",
     "collapsed": false,
     "input": [
      "zcoord = c_[z,ra,dec]"
     ],
     "language": "python",
     "metadata": {},
     "outputs": [],
     "prompt_number": 41
    },
    {
     "cell_type": "code",
     "collapsed": false,
     "input": [
      "zcoord[0:10,:]"
     ],
     "language": "python",
     "metadata": {},
     "outputs": [
      {
       "metadata": {},
       "output_type": "pyout",
       "prompt_number": 42,
       "text": [
        "array([[  9.55104157e-02,   2.39583329e+02,   2.72334129e+01],\n",
        "       [  2.32500643e-01,   2.50082548e+02,   4.67115314e+01],\n",
        "       [  1.81948349e-01,   1.97872957e+02,  -1.34111628e+00],\n",
        "       [  1.70400381e-01,   1.37303121e+02,   1.09747469e+01],\n",
        "       [  3.95684958e-01,   8.03426455e+00,   1.81070239e+01],\n",
        "       [  3.21887910e-01,   1.50558906e+02,   2.05379494e+01],\n",
        "       [  2.31705472e-01,   2.03833723e+02,   4.10011464e+01],\n",
        "       [  4.38676506e-01,   3.40832476e+02,  -9.59192011e+00],\n",
        "       [  1.27487645e-01,   1.26371092e+02,   4.71335713e+01],\n",
        "       [  2.83148289e-01,   1.98771816e+02,   5.18174456e+01]])"
       ]
      }
     ],
     "prompt_number": 42
    },
    {
     "cell_type": "code",
     "collapsed": false,
     "input": [
      "reload(lss)"
     ],
     "language": "python",
     "metadata": {},
     "outputs": [
      {
       "metadata": {},
       "output_type": "pyout",
       "prompt_number": 43,
       "text": [
        "<module 'largescalestructure' from 'largescalestructure.py'>"
       ]
      }
     ],
     "prompt_number": 43
    },
    {
     "cell_type": "code",
     "collapsed": false,
     "input": [
      "indx1, indx2, ds = lss.comoving_neighbors(zcoord,zcoord,nthneighbor=2,maxscale=5.)"
     ],
     "language": "python",
     "metadata": {},
     "outputs": [
      {
       "ename": "IndexError",
       "evalue": "invalid index to scalar variable.",
       "output_type": "pyerr",
       "traceback": [
        "\u001b[0;31m---------------------------------------------------------------------------\u001b[0m\n\u001b[0;31mIndexError\u001b[0m                                Traceback (most recent call last)",
        "\u001b[0;32m<ipython-input-44-2c6df29afe90>\u001b[0m in \u001b[0;36m<module>\u001b[0;34m()\u001b[0m\n\u001b[0;32m----> 1\u001b[0;31m \u001b[0mindx1\u001b[0m\u001b[0;34m,\u001b[0m \u001b[0mindx2\u001b[0m\u001b[0;34m,\u001b[0m \u001b[0mds\u001b[0m \u001b[0;34m=\u001b[0m \u001b[0mlss\u001b[0m\u001b[0;34m.\u001b[0m\u001b[0mcomoving_neighbors\u001b[0m\u001b[0;34m(\u001b[0m\u001b[0mzcoord\u001b[0m\u001b[0;34m,\u001b[0m\u001b[0mzcoord\u001b[0m\u001b[0;34m,\u001b[0m\u001b[0mnthneighbor\u001b[0m\u001b[0;34m=\u001b[0m\u001b[0;36m2\u001b[0m\u001b[0;34m,\u001b[0m\u001b[0mmaxscale\u001b[0m\u001b[0;34m=\u001b[0m\u001b[0;36m5.\u001b[0m\u001b[0;34m)\u001b[0m\u001b[0;34m\u001b[0m\u001b[0m\n\u001b[0m",
        "\u001b[0;32m/Users/Benjamin/Code/BGT-Cosmology/Spectroscopy/largescalestructure.py\u001b[0m in \u001b[0;36mcomoving_neighbors\u001b[0;34m(zcoord1, zcoord2, nthneighbor, maxscale)\u001b[0m\n\u001b[1;32m     61\u001b[0m \u001b[0;34m\u001b[0m\u001b[0m\n\u001b[1;32m     62\u001b[0m     \u001b[0mds\u001b[0m \u001b[0;34m=\u001b[0m \u001b[0mlinalg\u001b[0m\u001b[0;34m.\u001b[0m\u001b[0mnorm\u001b[0m\u001b[0;34m(\u001b[0m\u001b[0mccoord1\u001b[0m\u001b[0;34m[\u001b[0m\u001b[0;34m:\u001b[0m\u001b[0;34m,\u001b[0m\u001b[0;36m1\u001b[0m\u001b[0;34m:\u001b[0m\u001b[0;36m3\u001b[0m\u001b[0;34m]\u001b[0m\u001b[0;34m-\u001b[0m\u001b[0mccoord2\u001b[0m\u001b[0;34m[\u001b[0m\u001b[0mindx2\u001b[0m\u001b[0;34m,\u001b[0m\u001b[0;36m1\u001b[0m\u001b[0;34m:\u001b[0m\u001b[0;36m3\u001b[0m\u001b[0;34m]\u001b[0m\u001b[0;34m)\u001b[0m\u001b[0;34m\u001b[0m\u001b[0m\n\u001b[0;32m---> 63\u001b[0;31m     \u001b[0;32mprint\u001b[0m \u001b[0mds\u001b[0m\u001b[0;34m[\u001b[0m\u001b[0;36m0\u001b[0m\u001b[0;34m:\u001b[0m\u001b[0;36m10\u001b[0m\u001b[0;34m]\u001b[0m\u001b[0;34m\u001b[0m\u001b[0m\n\u001b[0m\u001b[1;32m     64\u001b[0m     \u001b[0mindx1\u001b[0m \u001b[0;34m=\u001b[0m \u001b[0mnp\u001b[0m\u001b[0;34m.\u001b[0m\u001b[0marange\u001b[0m\u001b[0;34m(\u001b[0m\u001b[0mds\u001b[0m\u001b[0;34m.\u001b[0m\u001b[0msize\u001b[0m\u001b[0;34m/\u001b[0m\u001b[0;36m3\u001b[0m\u001b[0;34m)\u001b[0m\u001b[0;34m\u001b[0m\u001b[0m\n\u001b[1;32m     65\u001b[0m     \u001b[0;32mif\u001b[0m \u001b[0mmaxscale\u001b[0m \u001b[0;34m!=\u001b[0m \u001b[0mNone\u001b[0m\u001b[0;34m:\u001b[0m\u001b[0;34m\u001b[0m\u001b[0m\n",
        "\u001b[0;31mIndexError\u001b[0m: invalid index to scalar variable."
       ]
      }
     ],
     "prompt_number": 44
    },
    {
     "cell_type": "code",
     "collapsed": false,
     "input": [
      "c = np.array([[ 1, 2, 3],\n",
      "              [-1, 1, 4]])"
     ],
     "language": "python",
     "metadata": {},
     "outputs": [],
     "prompt_number": 45
    },
    {
     "cell_type": "code",
     "collapsed": false,
     "input": [
      "c.shape"
     ],
     "language": "python",
     "metadata": {},
     "outputs": [
      {
       "metadata": {},
       "output_type": "pyout",
       "prompt_number": 46,
       "text": [
        "(2, 3)"
       ]
      }
     ],
     "prompt_number": 46
    },
    {
     "cell_type": "code",
     "collapsed": false,
     "input": [
      "linalg.norm(c,axis=1)"
     ],
     "language": "python",
     "metadata": {},
     "outputs": [
      {
       "metadata": {},
       "output_type": "pyout",
       "prompt_number": 47,
       "text": [
        "array([ 3.74165739,  4.24264069])"
       ]
      }
     ],
     "prompt_number": 47
    },
    {
     "cell_type": "code",
     "collapsed": false,
     "input": [
      "sqrt(1.+2.*2.+3.*3.)"
     ],
     "language": "python",
     "metadata": {},
     "outputs": [
      {
       "metadata": {},
       "output_type": "pyout",
       "prompt_number": 48,
       "text": [
        "3.7416573867739413"
       ]
      }
     ],
     "prompt_number": 48
    },
    {
     "cell_type": "code",
     "collapsed": false,
     "input": [
      "reload(lss)"
     ],
     "language": "python",
     "metadata": {},
     "outputs": [
      {
       "metadata": {},
       "output_type": "pyout",
       "prompt_number": 49,
       "text": [
        "<module 'largescalestructure' from 'largescalestructure.py'>"
       ]
      }
     ],
     "prompt_number": 49
    },
    {
     "cell_type": "code",
     "collapsed": false,
     "input": [
      "indx1, indx2, ds = lss.comoving_neighbors(zcoord,zcoord,nthneighbor=2,maxscale=5.)"
     ],
     "language": "python",
     "metadata": {},
     "outputs": [
      {
       "ename": "IndexError",
       "evalue": "index 8796 is out of bounds for axis 1 with size 8442",
       "output_type": "pyerr",
       "traceback": [
        "\u001b[0;31m---------------------------------------------------------------------------\u001b[0m\n\u001b[0;31mIndexError\u001b[0m                                Traceback (most recent call last)",
        "\u001b[0;32m<ipython-input-50-2c6df29afe90>\u001b[0m in \u001b[0;36m<module>\u001b[0;34m()\u001b[0m\n\u001b[0;32m----> 1\u001b[0;31m \u001b[0mindx1\u001b[0m\u001b[0;34m,\u001b[0m \u001b[0mindx2\u001b[0m\u001b[0;34m,\u001b[0m \u001b[0mds\u001b[0m \u001b[0;34m=\u001b[0m \u001b[0mlss\u001b[0m\u001b[0;34m.\u001b[0m\u001b[0mcomoving_neighbors\u001b[0m\u001b[0;34m(\u001b[0m\u001b[0mzcoord\u001b[0m\u001b[0;34m,\u001b[0m\u001b[0mzcoord\u001b[0m\u001b[0;34m,\u001b[0m\u001b[0mnthneighbor\u001b[0m\u001b[0;34m=\u001b[0m\u001b[0;36m2\u001b[0m\u001b[0;34m,\u001b[0m\u001b[0mmaxscale\u001b[0m\u001b[0;34m=\u001b[0m\u001b[0;36m5.\u001b[0m\u001b[0;34m)\u001b[0m\u001b[0;34m\u001b[0m\u001b[0m\n\u001b[0m",
        "\u001b[0;32m/Users/Benjamin/Code/BGT-Cosmology/Spectroscopy/largescalestructure.py\u001b[0m in \u001b[0;36mcomoving_neighbors\u001b[0;34m(zcoord1, zcoord2, nthneighbor, maxscale)\u001b[0m\n\u001b[1;32m     63\u001b[0m     \u001b[0;32mif\u001b[0m \u001b[0mmaxscale\u001b[0m \u001b[0;34m!=\u001b[0m \u001b[0mNone\u001b[0m\u001b[0;34m:\u001b[0m\u001b[0;34m\u001b[0m\u001b[0m\n\u001b[1;32m     64\u001b[0m        \u001b[0miselect\u001b[0m \u001b[0;34m=\u001b[0m \u001b[0mds\u001b[0m \u001b[0;34m<\u001b[0m \u001b[0mmaxscale\u001b[0m\u001b[0;34m\u001b[0m\u001b[0m\n\u001b[0;32m---> 65\u001b[0;31m        \u001b[0mindx1\u001b[0m \u001b[0;34m=\u001b[0m \u001b[0mindx1\u001b[0m\u001b[0;34m[\u001b[0m\u001b[0miselect\u001b[0m\u001b[0;34m]\u001b[0m\u001b[0;34m\u001b[0m\u001b[0m\n\u001b[0m\u001b[1;32m     66\u001b[0m        \u001b[0mindx2\u001b[0m \u001b[0;34m=\u001b[0m \u001b[0mindx2\u001b[0m\u001b[0;34m[\u001b[0m\u001b[0miselect\u001b[0m\u001b[0;34m]\u001b[0m\u001b[0;34m\u001b[0m\u001b[0m\n\u001b[1;32m     67\u001b[0m        \u001b[0mds\u001b[0m \u001b[0;34m=\u001b[0m \u001b[0mds\u001b[0m\u001b[0;34m[\u001b[0m\u001b[0miselect\u001b[0m\u001b[0;34m]\u001b[0m\u001b[0;34m\u001b[0m\u001b[0m\n",
        "\u001b[0;31mIndexError\u001b[0m: index 8796 is out of bounds for axis 1 with size 8442"
       ]
      }
     ],
     "prompt_number": 50
    },
    {
     "cell_type": "code",
     "collapsed": false,
     "input": [
      "reload(lss)"
     ],
     "language": "python",
     "metadata": {},
     "outputs": [
      {
       "metadata": {},
       "output_type": "pyout",
       "prompt_number": 51,
       "text": [
        "<module 'largescalestructure' from 'largescalestructure.py'>"
       ]
      }
     ],
     "prompt_number": 51
    },
    {
     "cell_type": "code",
     "collapsed": false,
     "input": [
      "indx1, indx2, ds = lss.comoving_neighbors(zcoord,zcoord,nthneighbor=2,maxscale=5.)"
     ],
     "language": "python",
     "metadata": {},
     "outputs": [],
     "prompt_number": 52
    },
    {
     "cell_type": "code",
     "collapsed": false,
     "input": [
      "indx1.shape"
     ],
     "language": "python",
     "metadata": {},
     "outputs": [
      {
       "metadata": {},
       "output_type": "pyout",
       "prompt_number": 53,
       "text": [
        "(150,)"
       ]
      }
     ],
     "prompt_number": 53
    },
    {
     "cell_type": "code",
     "collapsed": false,
     "input": [
      "ds"
     ],
     "language": "python",
     "metadata": {},
     "outputs": [
      {
       "metadata": {},
       "output_type": "pyout",
       "prompt_number": 54,
       "text": [
        "array([ 3.46533383,  4.42312121,  4.42312121,  4.25705911,  4.97565976,\n",
        "        2.96249142,  4.85800635,  4.66168699,  3.85744672,  2.96249142,\n",
        "        4.20091305,  3.85744672,  4.6950601 ,  3.24351513,  3.67013876,\n",
        "        4.25705911,  2.72708363,  4.85800635,  2.72708363,  4.39165978,\n",
        "        3.24351513,  4.39165978,  4.66168699,  3.86875094,  4.89224123,\n",
        "        4.94841325,  4.4644582 ,  4.13398469,  2.67200495,  4.13398469,\n",
        "        4.47545444,  4.12676278,  2.80956211,  3.37867759,  3.80358559,\n",
        "        4.15852464,  4.64373171,  4.89224123,  3.49936085,  4.95701699,\n",
        "        2.80956211,  3.00202083,  4.96129858,  2.19209222,  3.68142286,\n",
        "        4.39259491,  4.4644582 ,  2.67200495,  4.29382589,  2.3228261 ,\n",
        "        3.24117094,  4.62637828,  2.19209222,  3.66440019,  4.97565976,\n",
        "        4.99998884,  3.89356437,  4.8599131 ,  4.59218948,  4.63958876,\n",
        "        4.07143483,  4.02788235,  3.80358559,  3.98158233,  4.58355231,\n",
        "        4.42190474,  4.55908483,  4.22119563,  4.0604631 ,  4.85546582,\n",
        "        2.3228261 ,  4.42190474,  4.74140222,  4.62637828,  4.08862467,\n",
        "        4.49614013,  3.00202083,  4.98605211,  4.74140222,  4.68832824,\n",
        "        4.54586442,  3.46533383,  3.66440019,  3.86875094,  4.11409681,\n",
        "        3.68142286,  4.29382589,  4.1170529 ,  3.8972521 ,  4.72282686,\n",
        "        4.12676278,  3.26735788,  4.58355231,  4.1170529 ,  3.89356437,\n",
        "        4.32190218,  4.22119563,  4.08862467,  4.08637562,  4.6950601 ,\n",
        "        4.18156071,  4.08637562,  4.68832824,  4.87376791,  4.99998884,\n",
        "        4.18156071,  2.90317844,  4.0604631 ,  3.24117094,  4.32190218,\n",
        "        2.90317844,  4.02788235,  3.8972521 ,  3.98158233,  4.87376791,\n",
        "        4.8599131 ,  4.15852464,  4.63958876,  4.95701699,  4.1026404 ,\n",
        "        4.85546582,  4.59218948,  4.20091305,  4.64373171,  4.49614013,\n",
        "        4.1026404 ,  3.26735788,  4.39259491,  4.54586442,  4.85688394,\n",
        "        4.07143483,  4.19724722,  4.96129858,  4.47545444,  3.49936085,\n",
        "        4.11409681,  3.43957039,  4.94382307,  3.90128513,  3.90128513,\n",
        "        4.72282686,  4.94382307,  4.19724722,  3.37867759,  3.67013876,\n",
        "        4.85688394,  3.43957039,  4.94841325,  4.98605211,  4.55908483])"
       ]
      }
     ],
     "prompt_number": 54
    },
    {
     "cell_type": "code",
     "collapsed": false,
     "input": [
      "zcoord[indx1,1]"
     ],
     "language": "python",
     "metadata": {},
     "outputs": [
      {
       "metadata": {},
       "output_type": "pyout",
       "prompt_number": 55,
       "text": [
        "array([ 203.53617059,  187.74151817,  187.62727357,  334.69992553,\n",
        "        187.22628825,  323.80085724,  157.64494027,  221.06605125,\n",
        "        249.9082825 ,  323.86821136,  172.5054329 ,  250.03437703,\n",
        "        341.22167602,  123.30212396,   14.87167489,  335.11319365,\n",
        "        227.87164755,  157.58017372,  227.96089022,   26.348133  ,\n",
        "        123.20714654,   26.21847287,  221.03524889,  162.52158664,\n",
        "        182.53265445,  112.40519948,  201.56600985,  227.85798631,\n",
        "        217.52836906,  227.6717769 ,   21.92261054,  219.72810827,\n",
        "        163.14179994,  164.09552492,  209.28052577,  328.70772309,\n",
        "         14.03855922,  182.80867895,  211.42972417,  154.69089581,\n",
        "        163.16350659,  138.40505975,  174.79166968,  192.51606898,\n",
        "        257.08191496,  179.54107246,  201.67883334,  217.41181617,\n",
        "        342.42100834,  213.71904415,  182.47787453,   44.22512981,\n",
        "        192.28413481,  170.99528601,  187.07932642,  149.54955162,\n",
        "         12.05520589,  202.0448534 ,   15.65211713,   21.27091583,\n",
        "        116.12540474,  145.93008191,  209.39385195,  197.30264049,\n",
        "        144.58316199,  175.93640662,  224.71898891,  336.6931316 ,\n",
        "        180.24371964,  184.39870711,  213.95351029,  176.03186035,\n",
        "        136.38253554,   43.94634355,   32.90618525,  201.21964344,\n",
        "        138.69157232,  336.25183801,  136.20930026,   29.2778438 ,\n",
        "        160.03086976,  203.27032311,  171.15581992,  162.65715454,\n",
        "        183.15300465,  256.94010195,  342.53811618,  199.04199949,\n",
        "        318.86954162,  214.20693116,  219.99584201,   29.37530476,\n",
        "        144.45642049,  199.13054796,   11.83906382,  158.90672629,\n",
        "        336.41755774,   32.95110766,  186.96160784,  341.23378874,\n",
        "        221.91377368,  186.90166613,   29.49720134,  161.99532668,\n",
        "        149.9210323 ,  221.86460919,   10.59755487,  180.17896443,\n",
        "        182.64161672,  158.85596415,   10.62411455,  145.83583584,\n",
        "        319.0210224 ,  197.51928964,  161.83781914,  202.29863381,\n",
        "        328.89554794,   21.31671664,  154.69715761,  151.19832746,\n",
        "        184.35070616,   15.91313571,  172.61143075,   13.95958772,\n",
        "        200.99614748,  151.36402038,   29.35417986,  179.5616083 ,\n",
        "        159.84577141,  354.84906013,  115.82929759,  341.59165915,\n",
        "        175.03149046,   21.84715281,  211.60245756,  183.01450805,\n",
        "        242.94687605,  209.21303048,  242.98339706,  242.91410144,\n",
        "        214.36942102,  208.99716188,  341.74119964,  164.23729538,\n",
        "         14.80514754,  354.79859597,  243.05948369,  112.33934948,\n",
        "        336.18776228,  224.80869634])"
       ]
      }
     ],
     "prompt_number": 55
    },
    {
     "cell_type": "code",
     "collapsed": false,
     "input": [
      "zcoord[indx1,2]"
     ],
     "language": "python",
     "metadata": {},
     "outputs": [
      {
       "metadata": {},
       "output_type": "pyout",
       "prompt_number": 56,
       "text": [
        "array([ 20.24805526,  34.65658162,  34.63372468,  -2.97356963,\n",
        "        19.43179804,  -1.04884163,  14.26160725,  35.95362562,\n",
        "        47.0528837 ,  -0.96587435,  12.93805576,  47.16058433,\n",
        "        27.07397701,  52.29712801,   3.72224051,  -2.79301759,\n",
        "        14.66088273,  14.06527342,  14.85125434,  13.9254471 ,\n",
        "        52.3574602 ,  13.79702834,  35.79696067,  28.53962917,\n",
        "         6.52452591,  34.2946089 ,  48.87479797,  36.56000868,\n",
        "        20.59506341,  36.81550791,  23.28829948,  17.72784089,\n",
        "        10.07056542,  27.16887115,  30.71468685,   0.93070107,\n",
        "        26.7043365 ,   6.1427434 ,  13.96988265,  -1.51742676,\n",
        "        10.1966672 ,   3.2890373 ,  17.06172704,  -1.54040347,\n",
        "        21.18150354,   8.66139146,  49.04595155,  20.49485686,\n",
        "        32.8709367 ,   0.1962087 ,  -0.5576665 ,  -1.62159413,\n",
        "        -1.79022246,  19.98607809,  19.22041416,  22.84879798,\n",
        "        29.87526339,  63.53379739,  -0.83548325,  -9.41373729,\n",
        "        49.56697532,   1.00024438,  30.55776123,  34.90964352,\n",
        "        65.49736578,  -1.00886748,  43.8803669 ,   4.90726536,\n",
        "        42.25350887,  22.93223084,   0.26044897,  -1.1420766 ,\n",
        "        17.9478988 ,  -1.69238036,   0.38685937,  47.31827854,\n",
        "         3.34904938,  -2.26312776,  18.27772909,  18.43595959,\n",
        "        39.63115727,  20.13906578,  20.09381551,  28.53145025,\n",
        "        30.62032093,  21.38708331,  32.44971022,  -0.93660758,\n",
        "        -0.13140059,  11.70286466,  18.11185249,  -0.2091413 ,\n",
        "        65.66149276,  -1.08663802,  29.59846232,  11.8524841 ,\n",
        "         4.87256004,   0.27765312,  14.10644879,  26.84843813,\n",
        "        37.26400593,  14.00986024,  18.36468275,  35.74587708,\n",
        "        22.77217752,  37.10169797,  27.1679617 ,  42.40067638,\n",
        "        -0.41249459,  11.7673704 ,  27.25608613,   1.04554171,\n",
        "        -0.07805769,  34.92766109,  35.8150307 ,  63.4602728 ,\n",
        "         1.06030398,  -9.28284831,  -1.35904103,  32.6804354 ,\n",
        "        22.78075376,  -0.7523451 ,  12.78032423,  26.60080158,\n",
        "        47.3819845 ,  32.53667476,  -0.3155994 ,   8.82902026,\n",
        "        39.54902419,  -6.1974541 ,  49.61443621,  17.57209381,\n",
        "        17.04826074,  23.47482119,  13.98304557,  30.68036538,\n",
        "        38.04861718,  57.15319661,  16.04890672,  16.19324323,\n",
        "        11.68144216,  57.16734474,  17.65678279,  27.08533922,\n",
        "         3.90231116,  -6.33753667,  38.14154105,  34.09639988,\n",
        "        -2.09605578,  43.61276664])"
       ]
      }
     ],
     "prompt_number": 56
    },
    {
     "cell_type": "code",
     "collapsed": false,
     "input": [
      "zcoord"
     ],
     "language": "python",
     "metadata": {},
     "outputs": [
      {
       "ename": "NameError",
       "evalue": "name 'zcoord' is not defined",
       "output_type": "pyerr",
       "traceback": [
        "\u001b[0;31m---------------------------------------------------------------------------\u001b[0m\n\u001b[0;31mNameError\u001b[0m                                 Traceback (most recent call last)",
        "\u001b[0;32m<ipython-input-1-08d0ee264be6>\u001b[0m in \u001b[0;36m<module>\u001b[0;34m()\u001b[0m\n\u001b[0;32m----> 1\u001b[0;31m \u001b[0mzcoord\u001b[0m\u001b[0;34m\u001b[0m\u001b[0m\n\u001b[0m",
        "\u001b[0;31mNameError\u001b[0m: name 'zcoord' is not defined"
       ]
      }
     ],
     "prompt_number": 1
    },
    {
     "cell_type": "code",
     "collapsed": false,
     "input": [
      "import datapath\n",
      "import fitsio\n",
      "clusters = fitsio.read('/Users/Benjamin/AstroData/Clusters/redmapper_dr8_public_v5.2_catalog.fits')"
     ],
     "language": "python",
     "metadata": {},
     "outputs": [],
     "prompt_number": 2
    },
    {
     "cell_type": "code",
     "collapsed": false,
     "input": [
      "ra = clusters['RA']\n",
      "dec = clusters['DEC']"
     ],
     "language": "python",
     "metadata": {},
     "outputs": [],
     "prompt_number": 3
    },
    {
     "cell_type": "code",
     "collapsed": false,
     "input": [
      "import healpy as hp"
     ],
     "language": "python",
     "metadata": {},
     "outputs": [],
     "prompt_number": 5
    },
    {
     "cell_type": "code",
     "collapsed": false,
     "input": [
      "hp.ang2pix(8,pi/6.,0.)"
     ],
     "language": "python",
     "metadata": {},
     "outputs": [
      {
       "metadata": {},
       "output_type": "pyout",
       "prompt_number": 6,
       "text": [
        "60"
       ]
      }
     ],
     "prompt_number": 6
    },
    {
     "cell_type": "code",
     "collapsed": false,
     "input": [
      "hp.mollview(arange(2.*8**2))"
     ],
     "language": "python",
     "metadata": {},
     "outputs": [
      {
       "ename": "ValueError",
       "evalue": "Wrong pixel number (it is not 12*nside**2)",
       "output_type": "pyerr",
       "traceback": [
        "\u001b[0;31m---------------------------------------------------------------------------\u001b[0m\n\u001b[0;31mValueError\u001b[0m                                Traceback (most recent call last)",
        "\u001b[0;32m<ipython-input-7-a5288f87be8f>\u001b[0m in \u001b[0;36m<module>\u001b[0;34m()\u001b[0m\n\u001b[0;32m----> 1\u001b[0;31m \u001b[0mhp\u001b[0m\u001b[0;34m.\u001b[0m\u001b[0mmollview\u001b[0m\u001b[0;34m(\u001b[0m\u001b[0marange\u001b[0m\u001b[0;34m(\u001b[0m\u001b[0;36m2.\u001b[0m\u001b[0;34m*\u001b[0m\u001b[0;36m8\u001b[0m\u001b[0;34m**\u001b[0m\u001b[0;36m2\u001b[0m\u001b[0;34m)\u001b[0m\u001b[0;34m)\u001b[0m\u001b[0;34m\u001b[0m\u001b[0m\n\u001b[0m",
        "\u001b[0;32m/Users/Benjamin/Library/Enthought/Canopy_64bit/User/lib/python2.7/site-packages/healpy/visufunc.pyc\u001b[0m in \u001b[0;36mmollview\u001b[0;34m(map, fig, rot, coord, unit, xsize, title, nest, min, max, flip, remove_dip, remove_mono, gal_cut, format, format2, cbar, cmap, notext, norm, hold, margins, sub, return_projected_map)\u001b[0m\n\u001b[1;32m    192\u001b[0m                                           copy=True,verbose=True)\n\u001b[1;32m    193\u001b[0m         img = ax.projmap(map,nest=nest,xsize=xsize,coord=coord,vmin=min,vmax=max,\n\u001b[0;32m--> 194\u001b[0;31m                    cmap=cmap,norm=norm)\n\u001b[0m\u001b[1;32m    195\u001b[0m         \u001b[0;32mif\u001b[0m \u001b[0mcbar\u001b[0m\u001b[0;34m:\u001b[0m\u001b[0;34m\u001b[0m\u001b[0m\n\u001b[1;32m    196\u001b[0m             \u001b[0mim\u001b[0m \u001b[0;34m=\u001b[0m \u001b[0max\u001b[0m\u001b[0;34m.\u001b[0m\u001b[0mget_images\u001b[0m\u001b[0;34m(\u001b[0m\u001b[0;34m)\u001b[0m\u001b[0;34m[\u001b[0m\u001b[0;36m0\u001b[0m\u001b[0;34m]\u001b[0m\u001b[0;34m\u001b[0m\u001b[0m\n",
        "\u001b[0;32m/Users/Benjamin/Library/Enthought/Canopy_64bit/User/lib/python2.7/site-packages/healpy/projaxes.pyc\u001b[0m in \u001b[0;36mprojmap\u001b[0;34m(self, map, nest, **kwds)\u001b[0m\n\u001b[1;32m    644\u001b[0m \u001b[0;32mclass\u001b[0m \u001b[0mHpxMollweideAxes\u001b[0m\u001b[0;34m(\u001b[0m\u001b[0mMollweideAxes\u001b[0m\u001b[0;34m)\u001b[0m\u001b[0;34m:\u001b[0m\u001b[0;34m\u001b[0m\u001b[0m\n\u001b[1;32m    645\u001b[0m     \u001b[0;32mdef\u001b[0m \u001b[0mprojmap\u001b[0m\u001b[0;34m(\u001b[0m\u001b[0mself\u001b[0m\u001b[0;34m,\u001b[0m\u001b[0mmap\u001b[0m\u001b[0;34m,\u001b[0m\u001b[0mnest\u001b[0m\u001b[0;34m=\u001b[0m\u001b[0mFalse\u001b[0m\u001b[0;34m,\u001b[0m\u001b[0;34m**\u001b[0m\u001b[0mkwds\u001b[0m\u001b[0;34m)\u001b[0m\u001b[0;34m:\u001b[0m\u001b[0;34m\u001b[0m\u001b[0m\n\u001b[0;32m--> 646\u001b[0;31m         \u001b[0mnside\u001b[0m \u001b[0;34m=\u001b[0m \u001b[0mpixelfunc\u001b[0m\u001b[0;34m.\u001b[0m\u001b[0mnpix2nside\u001b[0m\u001b[0;34m(\u001b[0m\u001b[0mpixelfunc\u001b[0m\u001b[0;34m.\u001b[0m\u001b[0mget_map_size\u001b[0m\u001b[0;34m(\u001b[0m\u001b[0mmap\u001b[0m\u001b[0;34m)\u001b[0m\u001b[0;34m)\u001b[0m\u001b[0;34m\u001b[0m\u001b[0m\n\u001b[0m\u001b[1;32m    647\u001b[0m         \u001b[0mf\u001b[0m \u001b[0;34m=\u001b[0m \u001b[0;32mlambda\u001b[0m \u001b[0mx\u001b[0m\u001b[0;34m,\u001b[0m\u001b[0my\u001b[0m\u001b[0;34m,\u001b[0m\u001b[0mz\u001b[0m\u001b[0;34m:\u001b[0m \u001b[0mpixelfunc\u001b[0m\u001b[0;34m.\u001b[0m\u001b[0mvec2pix\u001b[0m\u001b[0;34m(\u001b[0m\u001b[0mnside\u001b[0m\u001b[0;34m,\u001b[0m\u001b[0mx\u001b[0m\u001b[0;34m,\u001b[0m\u001b[0my\u001b[0m\u001b[0;34m,\u001b[0m\u001b[0mz\u001b[0m\u001b[0;34m,\u001b[0m\u001b[0mnest\u001b[0m\u001b[0;34m=\u001b[0m\u001b[0mnest\u001b[0m\u001b[0;34m)\u001b[0m\u001b[0;34m\u001b[0m\u001b[0m\n\u001b[1;32m    648\u001b[0m         \u001b[0;32mreturn\u001b[0m \u001b[0msuper\u001b[0m\u001b[0;34m(\u001b[0m\u001b[0mHpxMollweideAxes\u001b[0m\u001b[0;34m,\u001b[0m\u001b[0mself\u001b[0m\u001b[0;34m)\u001b[0m\u001b[0;34m.\u001b[0m\u001b[0mprojmap\u001b[0m\u001b[0;34m(\u001b[0m\u001b[0mmap\u001b[0m\u001b[0;34m,\u001b[0m\u001b[0mf\u001b[0m\u001b[0;34m,\u001b[0m\u001b[0;34m**\u001b[0m\u001b[0mkwds\u001b[0m\u001b[0;34m)\u001b[0m\u001b[0;34m\u001b[0m\u001b[0m\n",
        "\u001b[0;32m/Users/Benjamin/Library/Enthought/Canopy_64bit/User/lib/python2.7/site-packages/healpy/pixelfunc.pyc\u001b[0m in \u001b[0;36mget_map_size\u001b[0;34m(m)\u001b[0m\n\u001b[1;32m   1408\u001b[0m             \u001b[0;32mreturn\u001b[0m \u001b[0mlen\u001b[0m\u001b[0;34m(\u001b[0m\u001b[0mm\u001b[0m\u001b[0;34m)\u001b[0m\u001b[0;34m\u001b[0m\u001b[0m\n\u001b[1;32m   1409\u001b[0m         \u001b[0;32melse\u001b[0m\u001b[0;34m:\u001b[0m\u001b[0;34m\u001b[0m\u001b[0m\n\u001b[0;32m-> 1410\u001b[0;31m             \u001b[0;32mraise\u001b[0m \u001b[0mValueError\u001b[0m\u001b[0;34m(\u001b[0m\u001b[0;34m\"Wrong pixel number (it is not 12*nside**2)\"\u001b[0m\u001b[0;34m)\u001b[0m\u001b[0;34m\u001b[0m\u001b[0m\n\u001b[0m\u001b[1;32m   1411\u001b[0m \u001b[0;34m\u001b[0m\u001b[0m\n\u001b[1;32m   1412\u001b[0m \u001b[0;32mdef\u001b[0m \u001b[0mget_min_valid_nside\u001b[0m\u001b[0;34m(\u001b[0m\u001b[0mnpix\u001b[0m\u001b[0;34m)\u001b[0m\u001b[0;34m:\u001b[0m\u001b[0;34m\u001b[0m\u001b[0m\n",
        "\u001b[0;31mValueError\u001b[0m: Wrong pixel number (it is not 12*nside**2)"
       ]
      },
      {
       "metadata": {},
       "output_type": "display_data",
       "png": "[encoded data removed]",
       "text": [
        "<matplotlib.figure.Figure at 0x10996ef90>"
       ]
      }
     ],
     "prompt_number": 7
    },
    {
     "cell_type": "code",
     "collapsed": false,
     "input": [
      "%history"
     ],
     "language": "python",
     "metadata": {},
     "outputs": [
      {
       "output_type": "stream",
       "stream": "stdout",
       "text": [
        "zcoord\n",
        "import datapath\n",
        "import fitsio\n",
        "clusters = fitsio.read('/Users/Benjamin/AstroData/Clusters/redmapper_dr8_public_v5.2_catalog.fits')\n",
        "ra = clusters['RA']\n",
        "dec = clusters['DEC']\n",
        "import healpy\n",
        "import healpy as hp\n",
        "hp.ang2pix(8,pi/6.,0.)\n",
        "hp.mollview(arange(2.*8**2))\n",
        "%history\n"
       ]
      }
     ],
     "prompt_number": 8
    },
    {
     "cell_type": "code",
     "collapsed": false,
     "input": [
      "%history ~1/"
     ],
     "language": "python",
     "metadata": {},
     "outputs": [
      {
       "output_type": "stream",
       "stream": "stdout",
       "text": [
        "import healpy\n",
        "hp.mollview(np.arange(12))\n",
        "import healpy as hp\n",
        "hp.mollview(np.arange(12))\n",
        "hp.mollview(np.arange(16))\n",
        "hp.mollview(np.arange(12*2**2))\n",
        "hp.mollview(np.arange(12*4**2))\n",
        "hp.mollview(np.arange(12*6**2))\n",
        "hp.mollview(np.arange(12*8**2))\n",
        "hp.mollview(np.arange(12*16**2))\n",
        "print, 12*16**2\n",
        "12*16*82\n",
        "12*16**2\n",
        "12*32**2\n",
        "hp.mollview(np.arange(12*32**2))\n"
       ]
      }
     ],
     "prompt_number": 9
    },
    {
     "cell_type": "code",
     "collapsed": false,
     "input": [
      "hp.mollview(np.arange(12*8**2))"
     ],
     "language": "python",
     "metadata": {},
     "outputs": [
      {
       "metadata": {},
       "output_type": "display_data",
       "png": "[encoded data removed]",
       "text": [
        "<matplotlib.figure.Figure at 0x10aba0810>"
       ]
      }
     ],
     "prompt_number": 10
    },
    {
     "cell_type": "code",
     "collapsed": false,
     "input": [
      "hp.mollview(np.arange(12*2**2))\n",
      "hp.projplot(pi/6., 0.25*pi, 'ro')"
     ],
     "language": "python",
     "metadata": {},
     "outputs": [
      {
       "ename": "AttributeError",
       "evalue": "'module' object has no attribute '_process_plot_format'",
       "output_type": "pyerr",
       "traceback": [
        "\u001b[0;31m---------------------------------------------------------------------------\u001b[0m\n\u001b[0;31mAttributeError\u001b[0m                            Traceback (most recent call last)",
        "\u001b[0;32m<ipython-input-22-23df7b51bea3>\u001b[0m in \u001b[0;36m<module>\u001b[0;34m()\u001b[0m\n\u001b[1;32m      1\u001b[0m \u001b[0mhp\u001b[0m\u001b[0;34m.\u001b[0m\u001b[0mmollview\u001b[0m\u001b[0;34m(\u001b[0m\u001b[0mnp\u001b[0m\u001b[0;34m.\u001b[0m\u001b[0marange\u001b[0m\u001b[0;34m(\u001b[0m\u001b[0;36m12\u001b[0m\u001b[0;34m*\u001b[0m\u001b[0;36m2\u001b[0m\u001b[0;34m**\u001b[0m\u001b[0;36m2\u001b[0m\u001b[0;34m)\u001b[0m\u001b[0;34m)\u001b[0m\u001b[0;34m\u001b[0m\u001b[0m\n\u001b[0;32m----> 2\u001b[0;31m \u001b[0mhp\u001b[0m\u001b[0;34m.\u001b[0m\u001b[0mprojplot\u001b[0m\u001b[0;34m(\u001b[0m\u001b[0mpi\u001b[0m\u001b[0;34m/\u001b[0m\u001b[0;36m6.\u001b[0m\u001b[0;34m,\u001b[0m \u001b[0;36m0.25\u001b[0m\u001b[0;34m*\u001b[0m\u001b[0mpi\u001b[0m\u001b[0;34m,\u001b[0m \u001b[0;34m'ro'\u001b[0m\u001b[0;34m)\u001b[0m\u001b[0;34m\u001b[0m\u001b[0m\n\u001b[0m",
        "\u001b[0;32m/Users/Benjamin/Library/Enthought/Canopy_64bit/User/lib/python2.7/site-packages/healpy/visufunc.pyc\u001b[0m in \u001b[0;36mprojplot\u001b[0;34m(*args, **kwds)\u001b[0m\n\u001b[1;32m    811\u001b[0m         \u001b[0;32mfor\u001b[0m \u001b[0max\u001b[0m \u001b[0;32min\u001b[0m \u001b[0mf\u001b[0m\u001b[0;34m.\u001b[0m\u001b[0mget_axes\u001b[0m\u001b[0;34m(\u001b[0m\u001b[0;34m)\u001b[0m\u001b[0;34m:\u001b[0m\u001b[0;34m\u001b[0m\u001b[0m\n\u001b[1;32m    812\u001b[0m             \u001b[0;32mif\u001b[0m \u001b[0misinstance\u001b[0m\u001b[0;34m(\u001b[0m\u001b[0max\u001b[0m\u001b[0;34m,\u001b[0m\u001b[0mPA\u001b[0m\u001b[0;34m.\u001b[0m\u001b[0mSphericalProjAxes\u001b[0m\u001b[0;34m)\u001b[0m\u001b[0;34m:\u001b[0m\u001b[0;34m\u001b[0m\u001b[0m\n\u001b[0;32m--> 813\u001b[0;31m                 \u001b[0mret\u001b[0m \u001b[0;34m=\u001b[0m \u001b[0max\u001b[0m\u001b[0;34m.\u001b[0m\u001b[0mprojplot\u001b[0m\u001b[0;34m(\u001b[0m\u001b[0;34m*\u001b[0m\u001b[0margs\u001b[0m\u001b[0;34m,\u001b[0m\u001b[0;34m**\u001b[0m\u001b[0mkwds\u001b[0m\u001b[0;34m)\u001b[0m\u001b[0;34m\u001b[0m\u001b[0m\n\u001b[0m\u001b[1;32m    814\u001b[0m     \u001b[0;32mfinally\u001b[0m\u001b[0;34m:\u001b[0m\u001b[0;34m\u001b[0m\u001b[0m\n\u001b[1;32m    815\u001b[0m         \u001b[0mpylab\u001b[0m\u001b[0;34m.\u001b[0m\u001b[0mdraw\u001b[0m\u001b[0;34m(\u001b[0m\u001b[0;34m)\u001b[0m\u001b[0;34m\u001b[0m\u001b[0m\n",
        "\u001b[0;32m/Users/Benjamin/Library/Enthought/Canopy_64bit/User/lib/python2.7/site-packages/healpy/projaxes.pyc\u001b[0m in \u001b[0;36mprojplot\u001b[0;34m(self, *args, **kwds)\u001b[0m\n\u001b[1;32m    255\u001b[0m         \u001b[0;32mfor\u001b[0m \u001b[0mxx\u001b[0m\u001b[0;34m,\u001b[0m\u001b[0myy\u001b[0m \u001b[0;32min\u001b[0m \u001b[0mzip\u001b[0m\u001b[0;34m(\u001b[0m\u001b[0mx\u001b[0m\u001b[0;34m,\u001b[0m\u001b[0my\u001b[0m\u001b[0;34m)\u001b[0m\u001b[0;34m:\u001b[0m\u001b[0;34m\u001b[0m\u001b[0m\n\u001b[1;32m    256\u001b[0m             \u001b[0;32mif\u001b[0m \u001b[0mfmt\u001b[0m \u001b[0;32mis\u001b[0m \u001b[0;32mnot\u001b[0m \u001b[0mNone\u001b[0m\u001b[0;34m:\u001b[0m\u001b[0;34m\u001b[0m\u001b[0m\n\u001b[0;32m--> 257\u001b[0;31m                 \u001b[0mlinestyle\u001b[0m\u001b[0;34m,\u001b[0m \u001b[0mmarker\u001b[0m\u001b[0;34m,\u001b[0m \u001b[0mcolor\u001b[0m \u001b[0;34m=\u001b[0m \u001b[0maxes\u001b[0m\u001b[0;34m.\u001b[0m\u001b[0m_process_plot_format\u001b[0m\u001b[0;34m(\u001b[0m\u001b[0mfmt\u001b[0m\u001b[0;34m)\u001b[0m\u001b[0;34m\u001b[0m\u001b[0m\n\u001b[0m\u001b[1;32m    258\u001b[0m                 \u001b[0mkwds\u001b[0m\u001b[0;34m.\u001b[0m\u001b[0msetdefault\u001b[0m\u001b[0;34m(\u001b[0m\u001b[0;34m'linestyle'\u001b[0m\u001b[0;34m,\u001b[0m\u001b[0mlinestyle\u001b[0m\u001b[0;34m)\u001b[0m\u001b[0;34m\u001b[0m\u001b[0m\n\u001b[1;32m    259\u001b[0m                 \u001b[0mkwds\u001b[0m\u001b[0;34m.\u001b[0m\u001b[0msetdefault\u001b[0m\u001b[0;34m(\u001b[0m\u001b[0;34m'marker'\u001b[0m\u001b[0;34m,\u001b[0m\u001b[0mmarker\u001b[0m\u001b[0;34m)\u001b[0m\u001b[0;34m\u001b[0m\u001b[0m\n",
        "\u001b[0;31mAttributeError\u001b[0m: 'module' object has no attribute '_process_plot_format'"
       ]
      },
      {
       "metadata": {},
       "output_type": "display_data",
       "png": "[encoded data removed]",
       "text": [
        "<matplotlib.figure.Figure at 0x10d53c3d0>"
       ]
      }
     ],
     "prompt_number": 22
    },
    {
     "cell_type": "code",
     "collapsed": false,
     "input": [
      "hp.ang2pix(8,pi/6.,0.)"
     ],
     "language": "python",
     "metadata": {},
     "outputs": [
      {
       "metadata": {},
       "output_type": "pyout",
       "prompt_number": 12,
       "text": [
        "60"
       ]
      }
     ],
     "prompt_number": 12
    },
    {
     "cell_type": "code",
     "collapsed": false,
     "input": [
      "hp.ang2pix(2,pi/6.,0.)"
     ],
     "language": "python",
     "metadata": {},
     "outputs": [
      {
       "metadata": {},
       "output_type": "pyout",
       "prompt_number": 13,
       "text": [
        "4"
       ]
      }
     ],
     "prompt_number": 13
    },
    {
     "cell_type": "code",
     "collapsed": false,
     "input": [
      "cos(pi/6.)"
     ],
     "language": "python",
     "metadata": {},
     "outputs": [
      {
       "metadata": {},
       "output_type": "pyout",
       "prompt_number": 14,
       "text": [
        "0.86602540378443871"
       ]
      }
     ],
     "prompt_number": 14
    },
    {
     "cell_type": "code",
     "collapsed": false,
     "input": [
      "hp.ang2pix(2,pi/6.,0.25*pi)"
     ],
     "language": "python",
     "metadata": {},
     "outputs": [
      {
       "metadata": {},
       "output_type": "pyout",
       "prompt_number": 15,
       "text": [
        "0"
       ]
      }
     ],
     "prompt_number": 15
    },
    {
     "cell_type": "code",
     "collapsed": false,
     "input": [
      "hp.graticule()"
     ],
     "language": "python",
     "metadata": {},
     "outputs": [
      {
       "output_type": "stream",
       "stream": "stdout",
       "text": [
        "0.0 180.0 -180.0 180.0\n"
       ]
      },
      {
       "ename": "ValueError",
       "evalue": "Unknown format code 'd' for object of type 'float'",
       "output_type": "pyerr",
       "traceback": [
        "\u001b[0;31m---------------------------------------------------------------------------\u001b[0m\n\u001b[0;31mValueError\u001b[0m                                Traceback (most recent call last)",
        "\u001b[0;32m<ipython-input-16-e7f72d14c00d>\u001b[0m in \u001b[0;36m<module>\u001b[0;34m()\u001b[0m\n\u001b[0;32m----> 1\u001b[0;31m \u001b[0mhp\u001b[0m\u001b[0;34m.\u001b[0m\u001b[0mgraticule\u001b[0m\u001b[0;34m(\u001b[0m\u001b[0;34m)\u001b[0m\u001b[0;34m\u001b[0m\u001b[0m\n\u001b[0m",
        "\u001b[0;32m/Users/Benjamin/Library/Enthought/Canopy_64bit/User/lib/python2.7/site-packages/healpy/visufunc.pyc\u001b[0m in \u001b[0;36mgraticule\u001b[0;34m(dpar, dmer, coord, local, **kwds)\u001b[0m\n\u001b[1;32m    775\u001b[0m             \u001b[0;32mif\u001b[0m \u001b[0misinstance\u001b[0m\u001b[0;34m(\u001b[0m\u001b[0max\u001b[0m\u001b[0;34m,\u001b[0m\u001b[0mPA\u001b[0m\u001b[0;34m.\u001b[0m\u001b[0mSphericalProjAxes\u001b[0m\u001b[0;34m)\u001b[0m\u001b[0;34m:\u001b[0m\u001b[0;34m\u001b[0m\u001b[0m\n\u001b[1;32m    776\u001b[0m                 ax.graticule(dpar=dpar,dmer=dmer,coord=coord,\n\u001b[0;32m--> 777\u001b[0;31m                              local=local,**kwds)\n\u001b[0m\u001b[1;32m    778\u001b[0m     \u001b[0;32mfinally\u001b[0m\u001b[0;34m:\u001b[0m\u001b[0;34m\u001b[0m\u001b[0m\n\u001b[1;32m    779\u001b[0m         \u001b[0mpylab\u001b[0m\u001b[0;34m.\u001b[0m\u001b[0mdraw\u001b[0m\u001b[0;34m(\u001b[0m\u001b[0;34m)\u001b[0m\u001b[0;34m\u001b[0m\u001b[0m\n",
        "\u001b[0;32m/Users/Benjamin/Library/Enthought/Canopy_64bit/User/lib/python2.7/site-packages/healpy/projaxes.pyc\u001b[0m in \u001b[0;36mgraticule\u001b[0;34m(self, dpar, dmer, coord, local, verbose, **kwds)\u001b[0m\n\u001b[1;32m    488\u001b[0m             dpar,dmer = self._get_interv_graticule(pmin,pmax,dpar,\n\u001b[1;32m    489\u001b[0m                                                    \u001b[0mmmin\u001b[0m\u001b[0;34m,\u001b[0m\u001b[0mmmax\u001b[0m\u001b[0;34m,\u001b[0m\u001b[0mdmer\u001b[0m\u001b[0;34m,\u001b[0m\u001b[0;34m\u001b[0m\u001b[0m\n\u001b[0;32m--> 490\u001b[0;31m                                                    verbose=verbose)\n\u001b[0m\u001b[1;32m    491\u001b[0m         \u001b[0mtheta_list\u001b[0m \u001b[0;34m=\u001b[0m \u001b[0mnp\u001b[0m\u001b[0;34m.\u001b[0m\u001b[0maround\u001b[0m\u001b[0;34m(\u001b[0m\u001b[0mnp\u001b[0m\u001b[0;34m.\u001b[0m\u001b[0marange\u001b[0m\u001b[0;34m(\u001b[0m\u001b[0mpmin\u001b[0m\u001b[0;34m,\u001b[0m\u001b[0mpmax\u001b[0m\u001b[0;34m+\u001b[0m\u001b[0;36m0.5\u001b[0m\u001b[0;34m*\u001b[0m\u001b[0mdpar\u001b[0m\u001b[0;34m,\u001b[0m\u001b[0mdpar\u001b[0m\u001b[0;34m)\u001b[0m\u001b[0;34m/\u001b[0m\u001b[0mdpar\u001b[0m\u001b[0;34m)\u001b[0m\u001b[0;34m*\u001b[0m\u001b[0mdpar\u001b[0m\u001b[0;34m\u001b[0m\u001b[0m\n\u001b[1;32m    492\u001b[0m         \u001b[0mphi_list\u001b[0m \u001b[0;34m=\u001b[0m \u001b[0mnp\u001b[0m\u001b[0;34m.\u001b[0m\u001b[0maround\u001b[0m\u001b[0;34m(\u001b[0m\u001b[0mnp\u001b[0m\u001b[0;34m.\u001b[0m\u001b[0marange\u001b[0m\u001b[0;34m(\u001b[0m\u001b[0mmmin\u001b[0m\u001b[0;34m,\u001b[0m\u001b[0mmmax\u001b[0m\u001b[0;34m+\u001b[0m\u001b[0;36m0.5\u001b[0m\u001b[0;34m*\u001b[0m\u001b[0mdmer\u001b[0m\u001b[0;34m,\u001b[0m\u001b[0mdmer\u001b[0m\u001b[0;34m)\u001b[0m\u001b[0;34m/\u001b[0m\u001b[0mdmer\u001b[0m\u001b[0;34m)\u001b[0m\u001b[0;34m*\u001b[0m\u001b[0mdmer\u001b[0m\u001b[0;34m\u001b[0m\u001b[0m\n",
        "\u001b[0;32m/Users/Benjamin/Library/Enthought/Canopy_64bit/User/lib/python2.7/site-packages/healpy/projaxes.pyc\u001b[0m in \u001b[0;36m_get_interv_graticule\u001b[0;34m(self, pmin, pmax, dpar, mmin, mmax, dmer, verbose)\u001b[0m\n\u001b[1;32m    581\u001b[0m         \u001b[0mvdeg\u001b[0m \u001b[0;34m=\u001b[0m \u001b[0mnp\u001b[0m\u001b[0;34m.\u001b[0m\u001b[0mfloor\u001b[0m\u001b[0;34m(\u001b[0m\u001b[0mnp\u001b[0m\u001b[0;34m.\u001b[0m\u001b[0maround\u001b[0m\u001b[0;34m(\u001b[0m\u001b[0mdpar\u001b[0m\u001b[0;34m/\u001b[0m\u001b[0mdtor\u001b[0m\u001b[0;34m,\u001b[0m\u001b[0;36m10\u001b[0m\u001b[0;34m)\u001b[0m\u001b[0;34m)\u001b[0m\u001b[0;34m\u001b[0m\u001b[0m\n\u001b[1;32m    582\u001b[0m         \u001b[0mvarcmin\u001b[0m \u001b[0;34m=\u001b[0m \u001b[0;34m(\u001b[0m\u001b[0mdpar\u001b[0m\u001b[0;34m/\u001b[0m\u001b[0mdtor\u001b[0m\u001b[0;34m-\u001b[0m\u001b[0mvdeg\u001b[0m\u001b[0;34m)\u001b[0m\u001b[0;34m*\u001b[0m\u001b[0;36m60.\u001b[0m\u001b[0;34m\u001b[0m\u001b[0m\n\u001b[0;32m--> 583\u001b[0;31m         \u001b[0;32mif\u001b[0m \u001b[0mverbose\u001b[0m\u001b[0;34m:\u001b[0m \u001b[0;32mprint\u001b[0m\u001b[0;34m(\u001b[0m\u001b[0;34m\"The interval between parallels is {0:d} deg {1:.2f}'.\"\u001b[0m\u001b[0;34m.\u001b[0m\u001b[0mformat\u001b[0m\u001b[0;34m(\u001b[0m\u001b[0mvdeg\u001b[0m\u001b[0;34m,\u001b[0m\u001b[0mvarcmin\u001b[0m\u001b[0;34m)\u001b[0m\u001b[0;34m)\u001b[0m\u001b[0;34m\u001b[0m\u001b[0m\n\u001b[0m\u001b[1;32m    584\u001b[0m         \u001b[0mvdeg\u001b[0m \u001b[0;34m=\u001b[0m \u001b[0mnp\u001b[0m\u001b[0;34m.\u001b[0m\u001b[0mfloor\u001b[0m\u001b[0;34m(\u001b[0m\u001b[0mnp\u001b[0m\u001b[0;34m.\u001b[0m\u001b[0maround\u001b[0m\u001b[0;34m(\u001b[0m\u001b[0mdmer\u001b[0m\u001b[0;34m/\u001b[0m\u001b[0mdtor\u001b[0m\u001b[0;34m,\u001b[0m\u001b[0;36m10\u001b[0m\u001b[0;34m)\u001b[0m\u001b[0;34m)\u001b[0m\u001b[0;34m\u001b[0m\u001b[0m\n\u001b[1;32m    585\u001b[0m         \u001b[0mvarcmin\u001b[0m \u001b[0;34m=\u001b[0m \u001b[0;34m(\u001b[0m\u001b[0mdmer\u001b[0m\u001b[0;34m/\u001b[0m\u001b[0mdtor\u001b[0m\u001b[0;34m-\u001b[0m\u001b[0mvdeg\u001b[0m\u001b[0;34m)\u001b[0m\u001b[0;34m*\u001b[0m\u001b[0;36m60.\u001b[0m\u001b[0;34m\u001b[0m\u001b[0m\n",
        "\u001b[0;31mValueError\u001b[0m: Unknown format code 'd' for object of type 'float'"
       ]
      },
      {
       "metadata": {},
       "output_type": "display_data",
       "png": "[encoded data removed]",
       "text": [
        "<matplotlib.figure.Figure at 0x10ab8f510>"
       ]
      }
     ],
     "prompt_number": 16
    },
    {
     "cell_type": "code",
     "collapsed": false,
     "input": [
      "allruns"
     ],
     "language": "python",
     "metadata": {},
     "outputs": [
      {
       "ename": "NameError",
       "evalue": "name 'allruns' is not defined",
       "output_type": "pyerr",
       "traceback": [
        "\u001b[0;31m---------------------------------------------------------------------------\u001b[0m\n\u001b[0;31mNameError\u001b[0m                                 Traceback (most recent call last)",
        "\u001b[0;32m<ipython-input-1-fbb7f3077ae8>\u001b[0m in \u001b[0;36m<module>\u001b[0;34m()\u001b[0m\n\u001b[0;32m----> 1\u001b[0;31m \u001b[0mallruns\u001b[0m\u001b[0;34m\u001b[0m\u001b[0m\n\u001b[0m",
        "\u001b[0;31mNameError\u001b[0m: name 'allruns' is not defined"
       ]
      }
     ],
     "prompt_number": 1
    },
    {
     "cell_type": "code",
     "collapsed": false,
     "input": [],
     "language": "python",
     "metadata": {},
     "outputs": []
    }
   ],
   "metadata": {}
  }
 ]
}