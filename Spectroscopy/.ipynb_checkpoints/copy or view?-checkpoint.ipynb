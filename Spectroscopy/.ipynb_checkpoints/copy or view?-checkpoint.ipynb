{
 "metadata": {
  "name": "",
  "signature": "sha256:97cf0126a66eedaf757a621ffdad7cc4dfca77d5a2b0420bd0f3e91affede5de"
 },
 "nbformat": 3,
 "nbformat_minor": 0,
 "worksheets": []
}