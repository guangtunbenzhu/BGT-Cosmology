{
 "metadata": {
  "name": "",
  "signature": "sha256:147ac4eea858b8b7784194c36ac93581f9d1edcdd92ba39552e04928cb599451"
 },
 "nbformat": 3,
 "nbformat_minor": 0,
 "worksheets": [
  {
   "cells": [
    {
     "cell_type": "code",
     "collapsed": false,
     "input": [
      "import datapath"
     ],
     "language": "python",
     "metadata": {},
     "outputs": [],
     "prompt_number": 1
    },
    {
     "cell_type": "code",
     "collapsed": false,
     "input": [
      "datapath.sdss_path()"
     ],
     "language": "python",
     "metadata": {},
     "outputs": [
      {
       "metadata": {},
       "output_type": "pyout",
       "prompt_number": 2,
       "text": [
        "'/Users/Benjamin/AstroData/SDSS'"
       ]
      }
     ],
     "prompt_number": 2
    },
    {
     "cell_type": "code",
     "collapsed": false,
     "input": [
      "import fitsio"
     ],
     "language": "python",
     "metadata": {},
     "outputs": [],
     "prompt_number": 3
    },
    {
     "cell_type": "code",
     "collapsed": false,
     "input": [
      "data = fitsio.read('/Users/Benjamin/AstroData/SDSS/eBOSS/stack_goodSel_13801.fits')"
     ],
     "language": "python",
     "metadata": {},
     "outputs": [],
     "prompt_number": 4
    },
    {
     "cell_type": "code",
     "collapsed": false,
     "input": [
      "data.dtype.fields"
     ],
     "language": "python",
     "metadata": {},
     "outputs": [],
     "prompt_number": 5
    },
    {
     "cell_type": "code",
     "collapsed": false,
     "input": [
      "data.dtype"
     ],
     "language": "python",
     "metadata": {},
     "outputs": [
      {
       "metadata": {},
       "output_type": "pyout",
       "prompt_number": 6,
       "text": [
        "dtype('uint8')"
       ]
      }
     ],
     "prompt_number": 6
    },
    {
     "cell_type": "code",
     "collapsed": false,
     "input": [
      "data = fitsio.read('/Users/Benjamin/AstroData/SDSS/eBOSS/stack_goodSel_13801.fits', ext=2)"
     ],
     "language": "python",
     "metadata": {},
     "outputs": [
      {
       "ename": "ValueError",
       "evalue": "extension not found: 2 (case insensitive)",
       "output_type": "pyerr",
       "traceback": [
        "\u001b[0;31m---------------------------------------------------------------------------\u001b[0m\n\u001b[0;31mValueError\u001b[0m                                Traceback (most recent call last)",
        "\u001b[0;32m<ipython-input-7-e24964f46f18>\u001b[0m in \u001b[0;36m<module>\u001b[0;34m()\u001b[0m\n\u001b[0;32m----> 1\u001b[0;31m \u001b[0mdata\u001b[0m \u001b[0;34m=\u001b[0m \u001b[0mfitsio\u001b[0m\u001b[0;34m.\u001b[0m\u001b[0mread\u001b[0m\u001b[0;34m(\u001b[0m\u001b[0;34m'/Users/Benjamin/AstroData/SDSS/eBOSS/stack_goodSel_13801.fits'\u001b[0m\u001b[0;34m,\u001b[0m \u001b[0mext\u001b[0m\u001b[0;34m=\u001b[0m\u001b[0;36m2\u001b[0m\u001b[0;34m)\u001b[0m\u001b[0;34m\u001b[0m\u001b[0m\n\u001b[0m",
        "\u001b[0;32m/Users/Benjamin/Library/Enthought/Canopy_64bit/User/lib/python2.7/site-packages/fitsio/fitslib.pyc\u001b[0m in \u001b[0;36mread\u001b[0;34m(filename, ext, extver, **keys)\u001b[0m\n\u001b[1;32m    101\u001b[0m         \u001b[0mitem\u001b[0m\u001b[0;34m=\u001b[0m\u001b[0m_make_item\u001b[0m\u001b[0;34m(\u001b[0m\u001b[0mext\u001b[0m\u001b[0;34m,\u001b[0m \u001b[0mextver\u001b[0m\u001b[0;34m=\u001b[0m\u001b[0mextver\u001b[0m\u001b[0;34m)\u001b[0m\u001b[0;34m\u001b[0m\u001b[0m\n\u001b[1;32m    102\u001b[0m \u001b[0;34m\u001b[0m\u001b[0m\n\u001b[0;32m--> 103\u001b[0;31m         \u001b[0mdata\u001b[0m \u001b[0;34m=\u001b[0m \u001b[0mfits\u001b[0m\u001b[0;34m[\u001b[0m\u001b[0mitem\u001b[0m\u001b[0;34m]\u001b[0m\u001b[0;34m.\u001b[0m\u001b[0mread\u001b[0m\u001b[0;34m(\u001b[0m\u001b[0;34m**\u001b[0m\u001b[0mkeys\u001b[0m\u001b[0;34m)\u001b[0m\u001b[0;34m\u001b[0m\u001b[0m\n\u001b[0m\u001b[1;32m    104\u001b[0m         \u001b[0;32mif\u001b[0m \u001b[0mheader\u001b[0m\u001b[0;34m:\u001b[0m\u001b[0;34m\u001b[0m\u001b[0m\n\u001b[1;32m    105\u001b[0m             \u001b[0mh\u001b[0m \u001b[0;34m=\u001b[0m \u001b[0mfits\u001b[0m\u001b[0;34m[\u001b[0m\u001b[0mitem\u001b[0m\u001b[0;34m]\u001b[0m\u001b[0;34m.\u001b[0m\u001b[0mread_header\u001b[0m\u001b[0;34m(\u001b[0m\u001b[0;34m)\u001b[0m\u001b[0;34m\u001b[0m\u001b[0m\n",
        "\u001b[0;32m/Users/Benjamin/Library/Enthought/Canopy_64bit/User/lib/python2.7/site-packages/fitsio/fitslib.pyc\u001b[0m in \u001b[0;36m__getitem__\u001b[0;34m(self, item)\u001b[0m\n\u001b[1;32m    933\u001b[0m             \u001b[0;32melse\u001b[0m\u001b[0;34m:\u001b[0m\u001b[0;34m\u001b[0m\u001b[0m\n\u001b[1;32m    934\u001b[0m                 \u001b[0;32mif\u001b[0m \u001b[0mext\u001b[0m \u001b[0;32mnot\u001b[0m \u001b[0;32min\u001b[0m \u001b[0mself\u001b[0m\u001b[0;34m.\u001b[0m\u001b[0mhdu_map\u001b[0m\u001b[0;34m:\u001b[0m\u001b[0;34m\u001b[0m\u001b[0m\n\u001b[0;32m--> 935\u001b[0;31m                     \u001b[0;32mraise\u001b[0m \u001b[0mValueError\u001b[0m\u001b[0;34m(\u001b[0m\u001b[0;34m\"extension not found: %s %s\"\u001b[0m \u001b[0;34m%\u001b[0m \u001b[0;34m(\u001b[0m\u001b[0mext\u001b[0m\u001b[0;34m,\u001b[0m\u001b[0mmess\u001b[0m\u001b[0;34m)\u001b[0m\u001b[0;34m)\u001b[0m\u001b[0;34m\u001b[0m\u001b[0m\n\u001b[0m\u001b[1;32m    936\u001b[0m                 \u001b[0mhdu\u001b[0m \u001b[0;34m=\u001b[0m \u001b[0mself\u001b[0m\u001b[0;34m.\u001b[0m\u001b[0mhdu_map\u001b[0m\u001b[0;34m[\u001b[0m\u001b[0mext\u001b[0m\u001b[0;34m]\u001b[0m\u001b[0;34m\u001b[0m\u001b[0m\n\u001b[1;32m    937\u001b[0m \u001b[0;34m\u001b[0m\u001b[0m\n",
        "\u001b[0;31mValueError\u001b[0m: extension not found: 2 (case insensitive)"
       ]
      }
     ],
     "prompt_number": 7
    },
    {
     "cell_type": "code",
     "collapsed": false,
     "input": [
      "data = fitsio.read('/Users/Benjamin/AstroData/SDSS/eBOSS/stack_goodSel_13801.fits', ext=1)"
     ],
     "language": "python",
     "metadata": {},
     "outputs": [],
     "prompt_number": 8
    },
    {
     "cell_type": "code",
     "collapsed": false,
     "input": [
      "data.dtype"
     ],
     "language": "python",
     "metadata": {},
     "outputs": [
      {
       "metadata": {},
       "output_type": "pyout",
       "prompt_number": 9,
       "text": [
        "dtype([('lambda', '>f8'), ('fluxMedian', '>f8'), ('Nspectra', '>f8')])"
       ]
      }
     ],
     "prompt_number": 9
    },
    {
     "cell_type": "code",
     "collapsed": false,
     "input": [
      "data.shape"
     ],
     "language": "python",
     "metadata": {},
     "outputs": [
      {
       "metadata": {},
       "output_type": "pyout",
       "prompt_number": 10,
       "text": [
        "(8451,)"
       ]
      }
     ],
     "prompt_number": 10
    },
    {
     "cell_type": "code",
     "collapsed": false,
     "input": [
      "data['lambda'].shape"
     ],
     "language": "python",
     "metadata": {},
     "outputs": [
      {
       "metadata": {},
       "output_type": "pyout",
       "prompt_number": 11,
       "text": [
        "(8451,)"
       ]
      }
     ],
     "prompt_number": 11
    },
    {
     "cell_type": "code",
     "collapsed": false,
     "input": [
      "figure(figsize=(10,6))\n",
      "plot(data['lambda']+0.585, data['fluxMedian'], drawstyle='steps')\n",
      "xlim(2580, 2630)\n",
      "ylim(0.05,0.25)\n",
      "plot([2586.65, 2586.65], [0.05, 0.25], 'g')\n",
      "plot([2600.17, 2600.17], [0.05, 0.25], 'g')\n",
      "plot([2626.45, 2626.45], [0.05, 0.25], 'r')\n",
      "plot([2612.65, 2612.65], [0.05, 0.25], 'r')"
     ],
     "language": "python",
     "metadata": {},
     "outputs": [
      {
       "metadata": {},
       "output_type": "pyout",
       "prompt_number": 33,
       "text": [
        "[<matplotlib.lines.Line2D at 0x109d82550>]"
       ]
      },
      {
       "metadata": {},
       "output_type": "display_data",
       "png": "[encoded data removed]",
       "text": [
        "<matplotlib.figure.Figure at 0x109d2ed90>"
       ]
      }
     ],
     "prompt_number": 33
    },
    {
     "cell_type": "code",
     "collapsed": false,
     "input": [
      "figure(figsize=(10,6))\n",
      "plot(data['lambda']+0.57, data['fluxMedian'], drawstyle='steps')\n",
      "xlim(2335, 2410)\n",
      "ylim(0.05,0.25)\n",
      "plot([2344.21, 2344.21], [0.05, 0.25], 'g')\n",
      "plot([2374.46, 2374.46], [0.05, 0.25], 'g')\n",
      "plot([2382.77, 2382.77], [0.05, 0.25], 'g')\n",
      "plot([2365.55, 2365.55], [0.05, 0.25], 'r')\n",
      "plot([2396.35, 2396.35], [0.05, 0.25], 'r')\n"
     ],
     "language": "python",
     "metadata": {},
     "outputs": [
      {
       "metadata": {},
       "output_type": "pyout",
       "prompt_number": 32,
       "text": [
        "[<matplotlib.lines.Line2D at 0x109d23750>]"
       ]
      },
      {
       "metadata": {},
       "output_type": "display_data",
       "png": "[encoded data removed]",
       "text": [
        "<matplotlib.figure.Figure at 0x108c36f50>"
       ]
      }
     ],
     "prompt_number": 32
    },
    {
     "cell_type": "code",
     "collapsed": false,
     "input": [
      "figure(figsize=(10,6))\n",
      "plot(arange(10), arange(10), drawstyle='steps')"
     ],
     "language": "python",
     "metadata": {},
     "outputs": [
      {
       "metadata": {},
       "output_type": "pyout",
       "prompt_number": 25,
       "text": [
        "[<matplotlib.lines.Line2D at 0x1090aeb50>]"
       ]
      },
      {
       "metadata": {},
       "output_type": "display_data",
       "png": "[encoded data removed]",
       "text": [
        "<matplotlib.figure.Figure at 0x108c797d0>"
       ]
      }
     ],
     "prompt_number": 25
    },
    {
     "cell_type": "code",
     "collapsed": false,
     "input": [
      "wave = data['lambda']\n",
      "tmp = wave[(wave>2500) & (wave<2600)]"
     ],
     "language": "python",
     "metadata": {},
     "outputs": [],
     "prompt_number": 27
    },
    {
     "cell_type": "code",
     "collapsed": false,
     "input": [
      "tmp"
     ],
     "language": "python",
     "metadata": {},
     "outputs": [
      {
       "metadata": {},
       "output_type": "pyout",
       "prompt_number": 28,
       "text": [
        "array([ 2500.29503833,  2500.87081883,  2501.44673192,  2502.02277763,\n",
        "        2502.598956  ,  2503.17526705,  2503.75171082,  2504.32828733,\n",
        "        2504.90499663,  2505.48183873,  2506.05881366,  2506.63592147,\n",
        "        2507.21316217,  2507.79053581,  2508.36804241,  2508.94568199,\n",
        "        2509.5234546 ,  2510.10136026,  2510.67939901,  2511.25757086,\n",
        "        2511.83587587,  2512.41431404,  2512.99288543,  2513.57159004,\n",
        "        2514.15042793,  2514.72939911,  2515.30850363,  2515.8877415 ,\n",
        "        2516.46711276,  2517.04661744,  2517.62625557,  2518.20602719,\n",
        "        2518.78593231,  2519.36597098,  2519.94614323,  2520.52644908,\n",
        "        2521.10688857,  2521.68746172,  2522.26816857,  2522.84900915,\n",
        "        2523.42998348,  2524.01109161,  2524.59233356,  2525.17370935,\n",
        "        2525.75521903,  2526.33686263,  2526.91864016,  2527.50055168,\n",
        "        2528.08259719,  2528.66477675,  2529.24709037,  2529.82953809,\n",
        "        2530.41211993,  2530.99483594,  2531.57768614,  2532.16067056,\n",
        "        2532.74378923,  2533.32704219,  2533.91042946,  2534.49395108,\n",
        "        2535.07760707,  2535.66139747,  2536.24532231,  2536.82938161,\n",
        "        2537.41357542,  2537.99790376,  2538.58236666,  2539.16696415,\n",
        "        2539.75169627,  2540.33656304,  2540.9215645 ,  2541.50670067,\n",
        "        2542.0919716 ,  2542.6773773 ,  2543.26291781,  2543.84859317,\n",
        "        2544.43440339,  2545.02034852,  2545.60642859,  2546.19264362,\n",
        "        2546.77899364,  2547.3654787 ,  2547.95209881,  2548.53885401,\n",
        "        2549.12574433,  2549.71276981,  2550.29993047,  2550.88722634,\n",
        "        2551.47465746,  2552.06222385,  2552.64992555,  2553.2377626 ,\n",
        "        2553.82573501,  2554.41384282,  2555.00208606,  2555.59046477,\n",
        "        2556.17897898,  2556.76762871,  2557.35641399,  2557.94533487,\n",
        "        2558.53439136,  2559.12358351,  2559.71291134,  2560.30237488,\n",
        "        2560.89197416,  2561.48170922,  2562.07158009,  2562.6615868 ,\n",
        "        2563.25172938,  2563.84200785,  2564.43242226,  2565.02297264,\n",
        "        2565.61365901,  2566.2044814 ,  2566.79543985,  2567.3865344 ,\n",
        "        2567.97776506,  2568.56913187,  2569.16063487,  2569.75227408,\n",
        "        2570.34404953,  2570.93596127,  2571.52800931,  2572.12019369,\n",
        "        2572.71251444,  2573.3049716 ,  2573.89756518,  2574.49029524,\n",
        "        2575.08316179,  2575.67616487,  2576.26930451,  2576.86258074,\n",
        "        2577.45599359,  2578.0495431 ,  2578.64322929,  2579.2370522 ,\n",
        "        2579.83101186,  2580.4251083 ,  2581.01934155,  2581.61371164,\n",
        "        2582.20821861,  2582.80286248,  2583.39764329,  2583.99256107,\n",
        "        2584.58761585,  2585.18280767,  2585.77813654,  2586.37360252,\n",
        "        2586.96920561,  2587.56494587,  2588.16082332,  2588.75683799,\n",
        "        2589.35298991,  2589.94927912,  2590.54570564,  2591.14226951,\n",
        "        2591.73897076,  2592.33580943,  2592.93278553,  2593.52989911,\n",
        "        2594.1271502 ,  2594.72453883,  2595.32206502,  2595.91972882,\n",
        "        2596.51753024,  2597.11546934,  2597.71354613,  2598.31176065,\n",
        "        2598.91011292,  2599.50860299])"
       ]
      }
     ],
     "prompt_number": 28
    },
    {
     "cell_type": "code",
     "collapsed": false,
     "input": [
      "tmp[1:]-tmp[:-1]"
     ],
     "language": "python",
     "metadata": {},
     "outputs": [
      {
       "metadata": {},
       "output_type": "pyout",
       "prompt_number": 29,
       "text": [
        "array([ 0.57578049,  0.57591309,  0.57604571,  0.57617837,  0.57631105,\n",
        "        0.57644377,  0.57657651,  0.57670929,  0.5768421 ,  0.57697494,\n",
        "        0.57710781,  0.57724071,  0.57737364,  0.5775066 ,  0.57763959,\n",
        "        0.57777261,  0.57790566,  0.57803874,  0.57817186,  0.578305  ,\n",
        "        0.57843818,  0.57857138,  0.57870462,  0.57883789,  0.57897118,\n",
        "        0.57910451,  0.57923787,  0.57937126,  0.57950468,  0.57963813,\n",
        "        0.57977161,  0.57990513,  0.58003867,  0.58017225,  0.58030585,\n",
        "        0.58043949,  0.58057315,  0.58070685,  0.58084058,  0.58097434,\n",
        "        0.58110813,  0.58124195,  0.5813758 ,  0.58150968,  0.58164359,\n",
        "        0.58177754,  0.58191151,  0.58204552,  0.58217955,  0.58231362,\n",
        "        0.58244772,  0.58258185,  0.58271601,  0.5828502 ,  0.58298442,\n",
        "        0.58311867,  0.58325296,  0.58338727,  0.58352162,  0.58365599,\n",
        "        0.5837904 ,  0.58392484,  0.58405931,  0.58419381,  0.58432834,\n",
        "        0.5844629 ,  0.58459749,  0.58473212,  0.58486677,  0.58500146,\n",
        "        0.58513618,  0.58527092,  0.5854057 ,  0.58554051,  0.58567535,\n",
        "        0.58581023,  0.58594513,  0.58608006,  0.58621503,  0.58635003,\n",
        "        0.58648505,  0.58662011,  0.5867552 ,  0.58689032,  0.58702548,\n",
        "        0.58716066,  0.58729587,  0.58743112,  0.58756639,  0.5877017 ,\n",
        "        0.58783704,  0.58797241,  0.58810781,  0.58824324,  0.58837871,\n",
        "        0.5885142 ,  0.58864973,  0.58878529,  0.58892088,  0.58905649,\n",
        "        0.58919215,  0.58932783,  0.58946354,  0.58959929,  0.58973506,\n",
        "        0.58987087,  0.59000671,  0.59014258,  0.59027848,  0.59041441,\n",
        "        0.59055037,  0.59068637,  0.59082239,  0.59095845,  0.59109454,\n",
        "        0.59123066,  0.59136681,  0.591503  ,  0.59163921,  0.59177546,\n",
        "        0.59191173,  0.59204804,  0.59218438,  0.59232075,  0.59245715,\n",
        "        0.59259359,  0.59273005,  0.59286655,  0.59300308,  0.59313964,\n",
        "        0.59327623,  0.59341285,  0.59354951,  0.59368619,  0.59382291,\n",
        "        0.59395966,  0.59409644,  0.59423325,  0.59437009,  0.59450697,\n",
        "        0.59464387,  0.59478081,  0.59491778,  0.59505478,  0.59519181,\n",
        "        0.59532888,  0.59546597,  0.5956031 ,  0.59574026,  0.59587745,\n",
        "        0.59601467,  0.59615192,  0.59628921,  0.59642652,  0.59656387,\n",
        "        0.59670125,  0.59683866,  0.59697611,  0.59711358,  0.59725109,\n",
        "        0.59738862,  0.59752619,  0.5976638 ,  0.59780143,  0.59793909,\n",
        "        0.59807679,  0.59821452,  0.59835228,  0.59849007])"
       ]
      }
     ],
     "prompt_number": 29
    },
    {
     "cell_type": "code",
     "collapsed": false,
     "input": [
      "figure(figsize=(20,6))\n",
      "plot(data['lambda']+0.6, data['fluxMedian'], drawstyle='steps')\n",
      "xlim(2000, 7500)\n",
      "ylim(0.07,2)\n",
      "yscale('log')"
     ],
     "language": "python",
     "metadata": {},
     "outputs": [
      {
       "metadata": {},
       "output_type": "display_data",
       "png": "[encoded data removed]",
       "text": [
        "<matplotlib.figure.Figure at 0x10a0da710>"
       ]
      }
     ],
     "prompt_number": 36
    },
    {
     "cell_type": "code",
     "collapsed": false,
     "input": [],
     "language": "python",
     "metadata": {},
     "outputs": []
    }
   ],
   "metadata": {}
  }
 ]
}