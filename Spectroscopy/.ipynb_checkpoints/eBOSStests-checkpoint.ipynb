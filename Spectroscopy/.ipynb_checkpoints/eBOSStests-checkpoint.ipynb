{
 "metadata": {
  "name": "",
  "signature": "sha256:63d6f1f0dc32a7bb104161059acbb2f2263f2140c62f6a8bd61b464f217dfd14"
 },
 "nbformat": 3,
 "nbformat_minor": 0,
 "worksheets": [
  {
   "cells": [
    {
     "cell_type": "code",
     "collapsed": false,
     "input": [
      "import datapath\n",
      "import fitsio\n",
      "data = fitsio.read('/Users/Benjamin/AstroData/SDSS/eBOSS/stack_goodSel_13801.fits', ext=1)\n",
      "figure(figsize=(10,6))\n",
      "plot(data['lambda']+0.585, data['fluxMedian'], drawstyle='steps')\n",
      "xlim(2580, 2630)\n",
      "ylim(0.05,0.25)\n",
      "plot([2586.65, 2586.65], [0.05, 0.25], 'g')\n",
      "plot([2600.17, 2600.17], [0.05, 0.25], 'g')\n",
      "plot([2626.45, 2626.45], [0.05, 0.25], 'r')\n",
      "plot([2612.65, 2612.65], [0.05, 0.25], 'r')"
     ],
     "language": "python",
     "metadata": {},
     "outputs": [],
     "prompt_number": 1
    },
    {
     "cell_type": "code",
     "collapsed": false,
     "input": [
      "datapath.sdss_path()"
     ],
     "language": "python",
     "metadata": {},
     "outputs": [
      {
       "metadata": {},
       "output_type": "pyout",
       "prompt_number": 2,
       "text": [
        "'/Users/Benjamin/AstroData/SDSS'"
       ]
      }
     ],
     "prompt_number": 2
    },
    {
     "cell_type": "code",
     "collapsed": false,
     "input": [
      "import fitsio"
     ],
     "language": "python",
     "metadata": {},
     "outputs": [],
     "prompt_number": 3
    },
    {
     "cell_type": "code",
     "collapsed": false,
     "input": [
      "data = fitsio.read('/Users/Benjamin/AstroData/SDSS/eBOSS/stack_goodSel_13801.fits')"
     ],
     "language": "python",
     "metadata": {},
     "outputs": [],
     "prompt_number": 4
    },
    {
     "cell_type": "code",
     "collapsed": false,
     "input": [
      "data.dtype.fields"
     ],
     "language": "python",
     "metadata": {},
     "outputs": [],
     "prompt_number": 5
    },
    {
     "cell_type": "code",
     "collapsed": false,
     "input": [
      "data.dtype"
     ],
     "language": "python",
     "metadata": {},
     "outputs": [
      {
       "metadata": {},
       "output_type": "pyout",
       "prompt_number": 6,
       "text": [
        "dtype('uint8')"
       ]
      }
     ],
     "prompt_number": 6
    },
    {
     "cell_type": "code",
     "collapsed": false,
     "input": [
      "data = fitsio.read('/Users/Benjamin/AstroData/SDSS/eBOSS/stack_goodSel_13801.fits', ext=2)"
     ],
     "language": "python",
     "metadata": {},
     "outputs": [
      {
       "ename": "ValueError",
       "evalue": "extension not found: 2 (case insensitive)",
       "output_type": "pyerr",
       "traceback": [
        "\u001b[0;31m---------------------------------------------------------------------------\u001b[0m\n\u001b[0;31mValueError\u001b[0m                                Traceback (most recent call last)",
        "\u001b[0;32m<ipython-input-7-e24964f46f18>\u001b[0m in \u001b[0;36m<module>\u001b[0;34m()\u001b[0m\n\u001b[0;32m----> 1\u001b[0;31m \u001b[0mdata\u001b[0m \u001b[0;34m=\u001b[0m \u001b[0mfitsio\u001b[0m\u001b[0;34m.\u001b[0m\u001b[0mread\u001b[0m\u001b[0;34m(\u001b[0m\u001b[0;34m'/Users/Benjamin/AstroData/SDSS/eBOSS/stack_goodSel_13801.fits'\u001b[0m\u001b[0;34m,\u001b[0m \u001b[0mext\u001b[0m\u001b[0;34m=\u001b[0m\u001b[0;36m2\u001b[0m\u001b[0;34m)\u001b[0m\u001b[0;34m\u001b[0m\u001b[0m\n\u001b[0m",
        "\u001b[0;32m/Users/Benjamin/Library/Enthought/Canopy_64bit/User/lib/python2.7/site-packages/fitsio/fitslib.pyc\u001b[0m in \u001b[0;36mread\u001b[0;34m(filename, ext, extver, **keys)\u001b[0m\n\u001b[1;32m    101\u001b[0m         \u001b[0mitem\u001b[0m\u001b[0;34m=\u001b[0m\u001b[0m_make_item\u001b[0m\u001b[0;34m(\u001b[0m\u001b[0mext\u001b[0m\u001b[0;34m,\u001b[0m \u001b[0mextver\u001b[0m\u001b[0;34m=\u001b[0m\u001b[0mextver\u001b[0m\u001b[0;34m)\u001b[0m\u001b[0;34m\u001b[0m\u001b[0m\n\u001b[1;32m    102\u001b[0m \u001b[0;34m\u001b[0m\u001b[0m\n\u001b[0;32m--> 103\u001b[0;31m         \u001b[0mdata\u001b[0m \u001b[0;34m=\u001b[0m \u001b[0mfits\u001b[0m\u001b[0;34m[\u001b[0m\u001b[0mitem\u001b[0m\u001b[0;34m]\u001b[0m\u001b[0;34m.\u001b[0m\u001b[0mread\u001b[0m\u001b[0;34m(\u001b[0m\u001b[0;34m**\u001b[0m\u001b[0mkeys\u001b[0m\u001b[0;34m)\u001b[0m\u001b[0;34m\u001b[0m\u001b[0m\n\u001b[0m\u001b[1;32m    104\u001b[0m         \u001b[0;32mif\u001b[0m \u001b[0mheader\u001b[0m\u001b[0;34m:\u001b[0m\u001b[0;34m\u001b[0m\u001b[0m\n\u001b[1;32m    105\u001b[0m             \u001b[0mh\u001b[0m \u001b[0;34m=\u001b[0m \u001b[0mfits\u001b[0m\u001b[0;34m[\u001b[0m\u001b[0mitem\u001b[0m\u001b[0;34m]\u001b[0m\u001b[0;34m.\u001b[0m\u001b[0mread_header\u001b[0m\u001b[0;34m(\u001b[0m\u001b[0;34m)\u001b[0m\u001b[0;34m\u001b[0m\u001b[0m\n",
        "\u001b[0;32m/Users/Benjamin/Library/Enthought/Canopy_64bit/User/lib/python2.7/site-packages/fitsio/fitslib.pyc\u001b[0m in \u001b[0;36m__getitem__\u001b[0;34m(self, item)\u001b[0m\n\u001b[1;32m    933\u001b[0m             \u001b[0;32melse\u001b[0m\u001b[0;34m:\u001b[0m\u001b[0;34m\u001b[0m\u001b[0m\n\u001b[1;32m    934\u001b[0m                 \u001b[0;32mif\u001b[0m \u001b[0mext\u001b[0m \u001b[0;32mnot\u001b[0m \u001b[0;32min\u001b[0m \u001b[0mself\u001b[0m\u001b[0;34m.\u001b[0m\u001b[0mhdu_map\u001b[0m\u001b[0;34m:\u001b[0m\u001b[0;34m\u001b[0m\u001b[0m\n\u001b[0;32m--> 935\u001b[0;31m                     \u001b[0;32mraise\u001b[0m \u001b[0mValueError\u001b[0m\u001b[0;34m(\u001b[0m\u001b[0;34m\"extension not found: %s %s\"\u001b[0m \u001b[0;34m%\u001b[0m \u001b[0;34m(\u001b[0m\u001b[0mext\u001b[0m\u001b[0;34m,\u001b[0m\u001b[0mmess\u001b[0m\u001b[0;34m)\u001b[0m\u001b[0;34m)\u001b[0m\u001b[0;34m\u001b[0m\u001b[0m\n\u001b[0m\u001b[1;32m    936\u001b[0m                 \u001b[0mhdu\u001b[0m \u001b[0;34m=\u001b[0m \u001b[0mself\u001b[0m\u001b[0;34m.\u001b[0m\u001b[0mhdu_map\u001b[0m\u001b[0;34m[\u001b[0m\u001b[0mext\u001b[0m\u001b[0;34m]\u001b[0m\u001b[0;34m\u001b[0m\u001b[0m\n\u001b[1;32m    937\u001b[0m \u001b[0;34m\u001b[0m\u001b[0m\n",
        "\u001b[0;31mValueError\u001b[0m: extension not found: 2 (case insensitive)"
       ]
      }
     ],
     "prompt_number": 7
    },
    {
     "cell_type": "code",
     "collapsed": false,
     "input": [
      "data = fitsio.read('/Users/Benjamin/AstroData/SDSS/eBOSS/stack_goodSel_13801.fits', ext=1)"
     ],
     "language": "python",
     "metadata": {},
     "outputs": [],
     "prompt_number": 8
    },
    {
     "cell_type": "code",
     "collapsed": false,
     "input": [
      "data.dtype"
     ],
     "language": "python",
     "metadata": {},
     "outputs": [
      {
       "metadata": {},
       "output_type": "pyout",
       "prompt_number": 9,
       "text": [
        "dtype([('lambda', '>f8'), ('fluxMedian', '>f8'), ('Nspectra', '>f8')])"
       ]
      }
     ],
     "prompt_number": 9
    },
    {
     "cell_type": "code",
     "collapsed": false,
     "input": [
      "data.shape"
     ],
     "language": "python",
     "metadata": {},
     "outputs": [
      {
       "metadata": {},
       "output_type": "pyout",
       "prompt_number": 10,
       "text": [
        "(8451,)"
       ]
      }
     ],
     "prompt_number": 10
    },
    {
     "cell_type": "code",
     "collapsed": false,
     "input": [
      "data['lambda'].shape"
     ],
     "language": "python",
     "metadata": {},
     "outputs": [
      {
       "metadata": {},
       "output_type": "pyout",
       "prompt_number": 11,
       "text": [
        "(8451,)"
       ]
      }
     ],
     "prompt_number": 11
    },
    {
     "cell_type": "code",
     "collapsed": false,
     "input": [
      "figure(figsize=(10,6))\n",
      "plot(data['lambda']+0.585, data['fluxMedian'], drawstyle='steps')\n",
      "xlim(2580, 2630)\n",
      "ylim(0.05,0.25)\n",
      "plot([2586.65, 2586.65], [0.05, 0.25], 'g')\n",
      "plot([2600.17, 2600.17], [0.05, 0.25], 'g')\n",
      "plot([2626.45, 2626.45], [0.05, 0.25], 'r')\n",
      "plot([2612.65, 2612.65], [0.05, 0.25], 'r')"
     ],
     "language": "python",
     "metadata": {},
     "outputs": [
      {
       "metadata": {},
       "output_type": "pyout",
       "prompt_number": 33,
       "text": [
        "[<matplotlib.lines.Line2D at 0x109d82550>]"
       ]
      },
      {
       "metadata": {},
       "output_type": "display_data",
       "png": "[encoded data removed]",
       "text": [
        "<matplotlib.figure.Figure at 0x109d2ed90>"
       ]
      }
     ],
     "prompt_number": 33
    },
    {
     "cell_type": "code",
     "collapsed": false,
     "input": [
      "figure(figsize=(10,6))\n",
      "plot(data['lambda']+0.57, data['fluxMedian'], drawstyle='steps')\n",
      "xlim(2335, 2410)\n",
      "ylim(0.05,0.25)\n",
      "plot([2344.21, 2344.21], [0.05, 0.25], 'g')\n",
      "plot([2374.46, 2374.46], [0.05, 0.25], 'g')\n",
      "plot([2382.77, 2382.77], [0.05, 0.25], 'g')\n",
      "plot([2365.55, 2365.55], [0.05, 0.25], 'r')\n",
      "plot([2396.35, 2396.35], [0.05, 0.25], 'r')\n"
     ],
     "language": "python",
     "metadata": {},
     "outputs": [
      {
       "metadata": {},
       "output_type": "pyout",
       "prompt_number": 32,
       "text": [
        "[<matplotlib.lines.Line2D at 0x109d23750>]"
       ]
      },
      {
       "metadata": {},
       "output_type": "display_data",
       "png": "[encoded data removed]",
       "text": [
        "<matplotlib.figure.Figure at 0x108c36f50>"
       ]
      }
     ],
     "prompt_number": 32
    },
    {
     "cell_type": "code",
     "collapsed": false,
     "input": [
      "figure(figsize=(10,6))\n",
      "plot(arange(10), arange(10), drawstyle='steps')"
     ],
     "language": "python",
     "metadata": {},
     "outputs": [
      {
       "metadata": {},
       "output_type": "pyout",
       "prompt_number": 25,
       "text": [
        "[<matplotlib.lines.Line2D at 0x1090aeb50>]"
       ]
      },
      {
       "metadata": {},
       "output_type": "display_data",
       "png": "[encoded data removed]",
       "text": [
        "<matplotlib.figure.Figure at 0x108c797d0>"
       ]
      }
     ],
     "prompt_number": 25
    },
    {
     "cell_type": "code",
     "collapsed": false,
     "input": [
      "wave = data['lambda']\n",
      "tmp = wave[(wave>2500) & (wave<2600)]"
     ],
     "language": "python",
     "metadata": {},
     "outputs": [],
     "prompt_number": 27
    },
    {
     "cell_type": "code",
     "collapsed": false,
     "input": [
      "tmp"
     ],
     "language": "python",
     "metadata": {},
     "outputs": [
      {
       "metadata": {},
       "output_type": "pyout",
       "prompt_number": 28,
       "text": [
        "array([ 2500.29503833,  2500.87081883,  2501.44673192,  2502.02277763,\n",
        "        2502.598956  ,  2503.17526705,  2503.75171082,  2504.32828733,\n",
        "        2504.90499663,  2505.48183873,  2506.05881366,  2506.63592147,\n",
        "        2507.21316217,  2507.79053581,  2508.36804241,  2508.94568199,\n",
        "        2509.5234546 ,  2510.10136026,  2510.67939901,  2511.25757086,\n",
        "        2511.83587587,  2512.41431404,  2512.99288543,  2513.57159004,\n",
        "        2514.15042793,  2514.72939911,  2515.30850363,  2515.8877415 ,\n",
        "        2516.46711276,  2517.04661744,  2517.62625557,  2518.20602719,\n",
        "        2518.78593231,  2519.36597098,  2519.94614323,  2520.52644908,\n",
        "        2521.10688857,  2521.68746172,  2522.26816857,  2522.84900915,\n",
        "        2523.42998348,  2524.01109161,  2524.59233356,  2525.17370935,\n",
        "        2525.75521903,  2526.33686263,  2526.91864016,  2527.50055168,\n",
        "        2528.08259719,  2528.66477675,  2529.24709037,  2529.82953809,\n",
        "        2530.41211993,  2530.99483594,  2531.57768614,  2532.16067056,\n",
        "        2532.74378923,  2533.32704219,  2533.91042946,  2534.49395108,\n",
        "        2535.07760707,  2535.66139747,  2536.24532231,  2536.82938161,\n",
        "        2537.41357542,  2537.99790376,  2538.58236666,  2539.16696415,\n",
        "        2539.75169627,  2540.33656304,  2540.9215645 ,  2541.50670067,\n",
        "        2542.0919716 ,  2542.6773773 ,  2543.26291781,  2543.84859317,\n",
        "        2544.43440339,  2545.02034852,  2545.60642859,  2546.19264362,\n",
        "        2546.77899364,  2547.3654787 ,  2547.95209881,  2548.53885401,\n",
        "        2549.12574433,  2549.71276981,  2550.29993047,  2550.88722634,\n",
        "        2551.47465746,  2552.06222385,  2552.64992555,  2553.2377626 ,\n",
        "        2553.82573501,  2554.41384282,  2555.00208606,  2555.59046477,\n",
        "        2556.17897898,  2556.76762871,  2557.35641399,  2557.94533487,\n",
        "        2558.53439136,  2559.12358351,  2559.71291134,  2560.30237488,\n",
        "        2560.89197416,  2561.48170922,  2562.07158009,  2562.6615868 ,\n",
        "        2563.25172938,  2563.84200785,  2564.43242226,  2565.02297264,\n",
        "        2565.61365901,  2566.2044814 ,  2566.79543985,  2567.3865344 ,\n",
        "        2567.97776506,  2568.56913187,  2569.16063487,  2569.75227408,\n",
        "        2570.34404953,  2570.93596127,  2571.52800931,  2572.12019369,\n",
        "        2572.71251444,  2573.3049716 ,  2573.89756518,  2574.49029524,\n",
        "        2575.08316179,  2575.67616487,  2576.26930451,  2576.86258074,\n",
        "        2577.45599359,  2578.0495431 ,  2578.64322929,  2579.2370522 ,\n",
        "        2579.83101186,  2580.4251083 ,  2581.01934155,  2581.61371164,\n",
        "        2582.20821861,  2582.80286248,  2583.39764329,  2583.99256107,\n",
        "        2584.58761585,  2585.18280767,  2585.77813654,  2586.37360252,\n",
        "        2586.96920561,  2587.56494587,  2588.16082332,  2588.75683799,\n",
        "        2589.35298991,  2589.94927912,  2590.54570564,  2591.14226951,\n",
        "        2591.73897076,  2592.33580943,  2592.93278553,  2593.52989911,\n",
        "        2594.1271502 ,  2594.72453883,  2595.32206502,  2595.91972882,\n",
        "        2596.51753024,  2597.11546934,  2597.71354613,  2598.31176065,\n",
        "        2598.91011292,  2599.50860299])"
       ]
      }
     ],
     "prompt_number": 28
    },
    {
     "cell_type": "code",
     "collapsed": false,
     "input": [
      "tmp[1:]-tmp[:-1]"
     ],
     "language": "python",
     "metadata": {},
     "outputs": [
      {
       "metadata": {},
       "output_type": "pyout",
       "prompt_number": 29,
       "text": [
        "array([ 0.57578049,  0.57591309,  0.57604571,  0.57617837,  0.57631105,\n",
        "        0.57644377,  0.57657651,  0.57670929,  0.5768421 ,  0.57697494,\n",
        "        0.57710781,  0.57724071,  0.57737364,  0.5775066 ,  0.57763959,\n",
        "        0.57777261,  0.57790566,  0.57803874,  0.57817186,  0.578305  ,\n",
        "        0.57843818,  0.57857138,  0.57870462,  0.57883789,  0.57897118,\n",
        "        0.57910451,  0.57923787,  0.57937126,  0.57950468,  0.57963813,\n",
        "        0.57977161,  0.57990513,  0.58003867,  0.58017225,  0.58030585,\n",
        "        0.58043949,  0.58057315,  0.58070685,  0.58084058,  0.58097434,\n",
        "        0.58110813,  0.58124195,  0.5813758 ,  0.58150968,  0.58164359,\n",
        "        0.58177754,  0.58191151,  0.58204552,  0.58217955,  0.58231362,\n",
        "        0.58244772,  0.58258185,  0.58271601,  0.5828502 ,  0.58298442,\n",
        "        0.58311867,  0.58325296,  0.58338727,  0.58352162,  0.58365599,\n",
        "        0.5837904 ,  0.58392484,  0.58405931,  0.58419381,  0.58432834,\n",
        "        0.5844629 ,  0.58459749,  0.58473212,  0.58486677,  0.58500146,\n",
        "        0.58513618,  0.58527092,  0.5854057 ,  0.58554051,  0.58567535,\n",
        "        0.58581023,  0.58594513,  0.58608006,  0.58621503,  0.58635003,\n",
        "        0.58648505,  0.58662011,  0.5867552 ,  0.58689032,  0.58702548,\n",
        "        0.58716066,  0.58729587,  0.58743112,  0.58756639,  0.5877017 ,\n",
        "        0.58783704,  0.58797241,  0.58810781,  0.58824324,  0.58837871,\n",
        "        0.5885142 ,  0.58864973,  0.58878529,  0.58892088,  0.58905649,\n",
        "        0.58919215,  0.58932783,  0.58946354,  0.58959929,  0.58973506,\n",
        "        0.58987087,  0.59000671,  0.59014258,  0.59027848,  0.59041441,\n",
        "        0.59055037,  0.59068637,  0.59082239,  0.59095845,  0.59109454,\n",
        "        0.59123066,  0.59136681,  0.591503  ,  0.59163921,  0.59177546,\n",
        "        0.59191173,  0.59204804,  0.59218438,  0.59232075,  0.59245715,\n",
        "        0.59259359,  0.59273005,  0.59286655,  0.59300308,  0.59313964,\n",
        "        0.59327623,  0.59341285,  0.59354951,  0.59368619,  0.59382291,\n",
        "        0.59395966,  0.59409644,  0.59423325,  0.59437009,  0.59450697,\n",
        "        0.59464387,  0.59478081,  0.59491778,  0.59505478,  0.59519181,\n",
        "        0.59532888,  0.59546597,  0.5956031 ,  0.59574026,  0.59587745,\n",
        "        0.59601467,  0.59615192,  0.59628921,  0.59642652,  0.59656387,\n",
        "        0.59670125,  0.59683866,  0.59697611,  0.59711358,  0.59725109,\n",
        "        0.59738862,  0.59752619,  0.5976638 ,  0.59780143,  0.59793909,\n",
        "        0.59807679,  0.59821452,  0.59835228,  0.59849007])"
       ]
      }
     ],
     "prompt_number": 29
    },
    {
     "cell_type": "code",
     "collapsed": false,
     "input": [
      "figure(figsize=(20,6))\n",
      "plot(data['lambda']+0.6, data['fluxMedian'], drawstyle='steps')\n",
      "xlim(2000, 7500)\n",
      "ylim(0.07,2)\n",
      "yscale('log')"
     ],
     "language": "python",
     "metadata": {},
     "outputs": [
      {
       "metadata": {},
       "output_type": "display_data",
       "png": "[encoded data removed]",
       "text": [
        "<matplotlib.figure.Figure at 0x10a0da710>"
       ]
      }
     ],
     "prompt_number": 36
    },
    {
     "cell_type": "code",
     "collapsed": false,
     "input": [
      "import datapath\n",
      "import fitsio\n",
      "data = fitsio.read('/Users/Benjamin/AstroData/SDSS/eBOSS/stack_goodSel_13801.fits', ext=1)"
     ],
     "language": "python",
     "metadata": {},
     "outputs": [],
     "prompt_number": 1
    },
    {
     "cell_type": "code",
     "collapsed": false,
     "input": [
      "figure(figsize=(10,6))\n",
      "plot(data['lambda']+0.585, data['fluxMedian'], drawstyle='steps')\n",
      "xlim(4310, 4430)\n",
      "ylim(0.15,0.45)\n",
      "plot([4341, 4341], [0.15, 0.45], 'g')\n",
      "plot([4363, 4363], [0.15, 0.45], 'r')"
     ],
     "language": "python",
     "metadata": {},
     "outputs": [
      {
       "metadata": {},
       "output_type": "pyout",
       "prompt_number": 6,
       "text": [
        "[<matplotlib.lines.Line2D at 0x108ae9850>]"
       ]
      },
      {
       "metadata": {},
       "output_type": "display_data",
       "png": "[encoded data removed]",
       "text": [
        "<matplotlib.figure.Figure at 0x1089a2190>"
       ]
      }
     ],
     "prompt_number": 6
    },
    {
     "cell_type": "code",
     "collapsed": false,
     "input": [
      "figure(figsize=(10,6))\n",
      "plot(data['lambda']+0.585, data['fluxMedian'], drawstyle='steps')\n",
      "xlim(2580, 2630)\n",
      "ylim(0.05,0.25)\n",
      "plot([2586.65, 2586.65], [0.05, 0.25], 'g')\n",
      "plot([2600.17, 2600.17], [0.05, 0.25], 'g')\n",
      "plot([2626.45, 2626.45], [0.05, 0.25], 'r')\n",
      "plot([2612.65, 2612.65], [0.05, 0.25], 'r')\n",
      "text(2586.65+0.5, 0.22, 'Fe II', color='green')\n",
      "text(2600.17+0.5, 0.22, 'Fe II', color='green')\n",
      "text(2626.45+0.5, 0.07, 'Fe II*', color='red')\n",
      "text(2612.65+0.5, 0.07, 'Fe II*', color='red')"
     ],
     "language": "python",
     "metadata": {},
     "outputs": [
      {
       "metadata": {},
       "output_type": "pyout",
       "prompt_number": 13,
       "text": [
        "<matplotlib.text.Text at 0x10a31d990>"
       ]
      },
      {
       "metadata": {},
       "output_type": "display_data",
       "png": "[encoded data removed]",
       "text": [
        "<matplotlib.figure.Figure at 0x1096cf7d0>"
       ]
      }
     ],
     "prompt_number": 13
    },
    {
     "cell_type": "code",
     "collapsed": false,
     "input": [
      "figure(figsize=(10,6))\n",
      "plot(data['lambda']+0.57, data['fluxMedian'], drawstyle='steps')\n",
      "xlim(2335, 2410)\n",
      "ylim(0.05,0.25)\n",
      "plot([2344.21, 2344.21], [0.05, 0.25], 'g')\n",
      "plot([2374.46, 2374.46], [0.05, 0.25], 'g')\n",
      "plot([2382.77, 2382.77], [0.05, 0.25], 'g')\n",
      "plot([2365.55, 2365.55], [0.05, 0.25], 'r')\n",
      "plot([2396.35, 2396.35], [0.05, 0.25], 'r')\n",
      "text(2344.21+0.5, 0.22, 'Fe II', color='green')\n",
      "text(2374.46+0.5, 0.22, 'Fe II', color='green')\n",
      "text(2382.77+0.5, 0.22, 'Fe II', color='green')\n",
      "text(2365.55+0.5, 0.07, 'Fe II*', color='red')\n",
      "text(2396.35+0.5, 0.07, 'Fe II*', color='red')"
     ],
     "language": "python",
     "metadata": {},
     "outputs": [
      {
       "metadata": {},
       "output_type": "pyout",
       "prompt_number": 14,
       "text": [
        "<matplotlib.text.Text at 0x10a482790>"
       ]
      },
      {
       "metadata": {},
       "output_type": "display_data",
       "png": "[encoded data removed]",
       "text": [
        "<matplotlib.figure.Figure at 0x1096e0150>"
       ]
      }
     ],
     "prompt_number": 14
    },
    {
     "cell_type": "code",
     "collapsed": false,
     "input": [
      "import datapath\n",
      "import fitsio\n",
      "data = fitsio.read('/Users/Benjamin/AstroData/SDSS/eBOSS/spAll-ELG-v5.4-zQ.fits', ext=1)"
     ],
     "language": "python",
     "metadata": {},
     "outputs": [],
     "prompt_number": 2
    },
    {
     "cell_type": "code",
     "collapsed": false,
     "input": [
      "data.size"
     ],
     "language": "python",
     "metadata": {},
     "outputs": [
      {
       "metadata": {},
       "output_type": "pyout",
       "prompt_number": 6,
       "text": [
        "21528"
       ]
      }
     ],
     "prompt_number": 6
    },
    {
     "cell_type": "code",
     "collapsed": false,
     "input": [
      "'Z' in data.dtype.fields"
     ],
     "language": "python",
     "metadata": {},
     "outputs": [
      {
       "metadata": {},
       "output_type": "pyout",
       "prompt_number": 8,
       "text": [
        "True"
       ]
      }
     ],
     "prompt_number": 8
    },
    {
     "cell_type": "code",
     "collapsed": false,
     "input": [
      "data.dtype.fields.keys()"
     ],
     "language": "python",
     "metadata": {},
     "outputs": [
      {
       "metadata": {},
       "output_type": "pyout",
       "prompt_number": 10,
       "text": [
        "['LINENAME_23',\n",
        " 'LINENAME_22',\n",
        " 'LINENAME_21',\n",
        " 'CLASS_2',\n",
        " 'CLASS_3',\n",
        " 'LINENAME_20',\n",
        " 'CLASS_4',\n",
        " 'CLASS_5',\n",
        " 'LINENAME_27',\n",
        " 'LINENAME_26',\n",
        " 'LINECONTLEVEL_ERR_21',\n",
        " 'LINECONTLEVEL_ERR_20',\n",
        " 'LINECONTLEVEL_ERR_23',\n",
        " 'LINECONTLEVEL_ERR_22',\n",
        " 'LINECONTLEVEL_ERR_25',\n",
        " 'LINECONTLEVEL_ERR_24',\n",
        " 'LINECONTLEVEL_ERR_27',\n",
        " 'LINECONTLEVEL_ERR_26',\n",
        " 'LINEEW_22',\n",
        " 'LINEEW_23',\n",
        " 'LINEEW_20',\n",
        " 'LINEEW_21',\n",
        " 'LINEEW_26',\n",
        " 'LINEEW_27',\n",
        " 'LINEEW_24',\n",
        " 'LINEEW_25',\n",
        " 'MJD',\n",
        " 'LINEAREA_31',\n",
        " 'LINEZ_ERR_30',\n",
        " 'SN_MEDIAN',\n",
        " 'zGOOD',\n",
        " 'LINECONTLEVEL_ERR_8',\n",
        " 'LINENPIXLEFT_13',\n",
        " 'LINENPIXLEFT_12',\n",
        " 'LINENPIXLEFT_11',\n",
        " 'LINENPIXLEFT_10',\n",
        " 'LINENPIXLEFT_17',\n",
        " 'LINENPIXLEFT_16',\n",
        " 'LINENPIXLEFT_15',\n",
        " 'LINENPIXLEFT_14',\n",
        " 'LINENPIXLEFT_19',\n",
        " 'LINENPIXLEFT_18',\n",
        " 'CLASS_1',\n",
        " 'LINEZ_18',\n",
        " 'LINEZ_19',\n",
        " 'LINEZ_14',\n",
        " 'LINEZ_15',\n",
        " 'LINEZ_16',\n",
        " 'LINEZ_17',\n",
        " 'LINEZ_10',\n",
        " 'LINEZ_11',\n",
        " 'LINEZ_12',\n",
        " 'LINEZ_13',\n",
        " 'LINENPIXRIGHT_9',\n",
        " 'LINENPIXRIGHT_8',\n",
        " 'LINECHI2_31',\n",
        " 'LINECHI2_30',\n",
        " 'Z_4',\n",
        " 'Z_5',\n",
        " 'SPECTROFLUX_IVAR',\n",
        " 'LINENPIXRIGHT_1',\n",
        " 'LINENPIXRIGHT_3',\n",
        " 'LINENPIXRIGHT_2',\n",
        " 'LINENPIXRIGHT_5',\n",
        " 'LINENPIXRIGHT_4',\n",
        " 'LINENPIXRIGHT_7',\n",
        " 'LINENPIXRIGHT_6',\n",
        " 'LINECHI2_24',\n",
        " 'LINECHI2_25',\n",
        " 'PLUG_RA',\n",
        " 'LINECHI2_28',\n",
        " 'DES_gMAG_DETMODEL',\n",
        " 'VDISP_ERR',\n",
        " 'zQ',\n",
        " 'Z_ERR',\n",
        " 'isUGRIZW',\n",
        " 'LINEEW_28',\n",
        " 'LINEAREA_30',\n",
        " 'LINEEW_29',\n",
        " 'LINEEW_ERR_22',\n",
        " 'LINEEW_ERR_23',\n",
        " 'DES_gMAGERR_DETMODEL',\n",
        " 'LINECONTLEVEL_ERR_29',\n",
        " 'LINECONTLEVEL_ERR_28',\n",
        " 'LINEZ_ERR_25',\n",
        " 'DOF',\n",
        " 'LINECONTLEVEL_ERR_18',\n",
        " 'LINECONTLEVEL_ERR_19',\n",
        " 'LINEEW_ERR_28',\n",
        " 'LINECONTLEVEL_ERR_10',\n",
        " 'LINECONTLEVEL_ERR_11',\n",
        " 'LINECONTLEVEL_ERR_12',\n",
        " 'LINECONTLEVEL_ERR_13',\n",
        " 'LINECONTLEVEL_ERR_14',\n",
        " 'LINECONTLEVEL_ERR_15',\n",
        " 'LINECONTLEVEL_ERR_16',\n",
        " 'LINECONTLEVEL_ERR_17',\n",
        " 'DES_rMAGERR_DETMODEL',\n",
        " 'type',\n",
        " 'CFHT_alpha',\n",
        " 'RCHI2',\n",
        " 'EXTINCTION_G',\n",
        " 'LINEEW_ERR_29',\n",
        " 'CFHT_flag',\n",
        " 'LINECONTLEVEL_ERR_30',\n",
        " 'LINENPIXRIGHT_15',\n",
        " 'LINENPIXRIGHT_14',\n",
        " 'LINENPIXRIGHT_17',\n",
        " 'LINENPIXRIGHT_16',\n",
        " 'LINENPIXRIGHT_11',\n",
        " 'LINENPIXRIGHT_10',\n",
        " 'LINENPIXRIGHT_13',\n",
        " 'LINENPIXRIGHT_12',\n",
        " 'LINENPIXRIGHT_19',\n",
        " 'LINENPIXRIGHT_18',\n",
        " 'SPECTROFLUX',\n",
        " 'LINEZ_ERR_24',\n",
        " 'LINEZ_ERR_27',\n",
        " 'LINEZ_ERR_26',\n",
        " 'LINEZ_ERR_21',\n",
        " 'LINEZ_ERR_20',\n",
        " 'LINEZ_ERR_23',\n",
        " 'LINEZ_ERR_22',\n",
        " 'LINEZ_ERR_29',\n",
        " 'LINEZ_ERR_28',\n",
        " 'WISE_WABmagerr',\n",
        " 'CLASS_NOQSO',\n",
        " 'LINEWAVE_30',\n",
        " 'LINEWAVE_31',\n",
        " 'SDSS_modelmagerr_u',\n",
        " 'SDSS_modelmagerr_r',\n",
        " 'SDSS_modelmagerr_i',\n",
        " 'SDSS_modelmagerr_g',\n",
        " 'FisherUGRIZW',\n",
        " 'CFHT_r2',\n",
        " 'LINEEW_ERR_31',\n",
        " 'LINEEW_ERR_30',\n",
        " 'isDESI',\n",
        " 'LINESIGMA_ERR_15',\n",
        " 'LINESIGMA_ERR_14',\n",
        " 'LINESIGMA_ERR_17',\n",
        " 'LINESIGMA_ERR_16',\n",
        " 'LINESIGMA_ERR_11',\n",
        " 'LINESIGMA_ERR_10',\n",
        " 'LINESIGMA_ERR_13',\n",
        " 'LINESIGMA_ERR_12',\n",
        " 'LINESIGMA_ERR_19',\n",
        " 'LINESIGMA_ERR_18',\n",
        " 'PLATE_1',\n",
        " 'LINEDOF_20',\n",
        " 'LINEDOF_21',\n",
        " 'LINEDOF_22',\n",
        " 'LINEDOF_23',\n",
        " 'LINEDOF_24',\n",
        " 'LINEDOF_25',\n",
        " 'LINEDOF_26',\n",
        " 'LINEDOF_27',\n",
        " 'LINEDOF_28',\n",
        " 'LINEDOF_29',\n",
        " 'PLATE',\n",
        " 'LINECONTLEVEL_30',\n",
        " 'DES_zMAG_DETMODEL',\n",
        " 'LINEZ_ERR_8',\n",
        " 'LINEZ_ERR_9',\n",
        " 'LINEZ_ERR_2',\n",
        " 'LINEZ_ERR_3',\n",
        " 'LINEZ_ERR_1',\n",
        " 'LINEZ_ERR_6',\n",
        " 'LINEZ_ERR_7',\n",
        " 'LINEZ_ERR_4',\n",
        " 'LINEZ_ERR_5',\n",
        " 'LINEEW_19',\n",
        " 'LINEEW_18',\n",
        " 'LINEEW_17',\n",
        " 'LINEEW_16',\n",
        " 'LINEEW_15',\n",
        " 'LINEEW_14',\n",
        " 'LINEEW_13',\n",
        " 'LINEEW_12',\n",
        " 'LINEEW_11',\n",
        " 'LINEEW_10',\n",
        " 'LINEAREA_ERR_18',\n",
        " 'LINEAREA_ERR_19',\n",
        " 'LINEAREA_ERR_14',\n",
        " 'LINEAREA_ERR_15',\n",
        " 'LINEAREA_ERR_16',\n",
        " 'LINEAREA_ERR_17',\n",
        " 'LINEAREA_ERR_10',\n",
        " 'LINEAREA_ERR_11',\n",
        " 'LINEAREA_ERR_12',\n",
        " 'LINEAREA_ERR_13',\n",
        " 'LINENPIXRIGHT_28',\n",
        " 'LINENPIXRIGHT_29',\n",
        " 'LINENPIXRIGHT_24',\n",
        " 'LINENPIXRIGHT_25',\n",
        " 'LINENPIXRIGHT_26',\n",
        " 'LINENPIXRIGHT_27',\n",
        " 'LINENPIXRIGHT_20',\n",
        " 'LINENPIXRIGHT_21',\n",
        " 'LINENPIXRIGHT_22',\n",
        " 'LINENPIXRIGHT_23',\n",
        " 'FIBERID_1',\n",
        " 'LINECHI2_20',\n",
        " 'LINECHI2_21',\n",
        " 'LINECHI2_22',\n",
        " 'LINECHI2_23',\n",
        " 'LINEZ_ERR_18',\n",
        " 'LINEZ_ERR_19',\n",
        " 'LINECHI2_26',\n",
        " 'LINECHI2_27',\n",
        " 'LINEZ_ERR_14',\n",
        " 'SN_MEDIAN_ALL',\n",
        " 'LINEZ_ERR_16',\n",
        " 'LINEZ_ERR_17',\n",
        " 'LINEZ_ERR_10',\n",
        " 'LINEZ_ERR_11',\n",
        " 'LINEZ_ERR_12',\n",
        " 'LINEZ_ERR_13',\n",
        " 'RCHI2_1',\n",
        " 'RCHI2_2',\n",
        " 'RCHI2_3',\n",
        " 'RCHI2_4',\n",
        " 'RCHI2_5',\n",
        " 'SPECTROSKYFLUX',\n",
        " 'DES_zMAGERR_DETMODEL',\n",
        " 'Z_1',\n",
        " 'isUGRIZWbright',\n",
        " 'Z_2',\n",
        " 'Z_3',\n",
        " 'LINECHI2_29',\n",
        " 'ZWARNING_NOQSO',\n",
        " 'WISE_WABmag',\n",
        " 'SDSS_modelmag_z',\n",
        " 'LINENAME_18',\n",
        " 'LINENAME_19',\n",
        " 'LINENAME_12',\n",
        " 'LINENAME_13',\n",
        " 'LINENAME_10',\n",
        " 'LINENAME_11',\n",
        " 'LINENAME_16',\n",
        " 'LINENAME_17',\n",
        " 'LINENAME_14',\n",
        " 'LINENAME_15',\n",
        " 'LINESIGMA_ERR_28',\n",
        " 'LINESIGMA_ERR_29',\n",
        " 'LINESIGMA_ERR_24',\n",
        " 'LINESIGMA_ERR_25',\n",
        " 'LINESIGMA_ERR_26',\n",
        " 'LINESIGMA_ERR_27',\n",
        " 'LINESIGMA_ERR_20',\n",
        " 'LINESIGMA_ERR_21',\n",
        " 'LINESIGMA_ERR_22',\n",
        " 'LINESIGMA_ERR_23',\n",
        " 'isDES',\n",
        " 'Z_NOQSO',\n",
        " 'LINENAME_1',\n",
        " 'LINEAREA_8',\n",
        " 'LINEAREA_9',\n",
        " 'LINENAME_4',\n",
        " 'LINENAME_5',\n",
        " 'LINENAME_6',\n",
        " 'LINENAME_7',\n",
        " 'LINENAME_8',\n",
        " 'LINENAME_9',\n",
        " 'LINEAREA_1',\n",
        " 'LINEAREA_6',\n",
        " 'LINEAREA_7',\n",
        " 'LINEAREA_4',\n",
        " 'LINEAREA_5',\n",
        " 'LINEEW_31',\n",
        " 'LINEEW_30',\n",
        " 'isGRI',\n",
        " 'SCUSS_modeladd',\n",
        " 'CLASS',\n",
        " 'LINEZ_ERR_31',\n",
        " 'CFHT_I',\n",
        " 'SDSS_modelmagerr_z',\n",
        " 'CFHT_G',\n",
        " 'CFHT_Y',\n",
        " 'CFHT_Z',\n",
        " 'CFHT_U',\n",
        " 'zBAD',\n",
        " 'CFHT_R',\n",
        " 'LINENAME_24',\n",
        " 'LINECONTLEVEL_ERR_6',\n",
        " 'LINECONTLEVEL_ERR_7',\n",
        " 'LINECONTLEVEL_ERR_4',\n",
        " 'LINECONTLEVEL_ERR_5',\n",
        " 'LINECONTLEVEL_ERR_2',\n",
        " 'LINECONTLEVEL_ERR_3',\n",
        " 'LINENAME_25',\n",
        " 'LINECONTLEVEL_ERR_1',\n",
        " 'LINENAME_29',\n",
        " 'LINENAME_28',\n",
        " 'ZWARNING',\n",
        " 'LINECONTLEVEL_ERR_9',\n",
        " 'isUGRIZWbrightALL',\n",
        " 'LINEAREA_22',\n",
        " 'LINEEW_ERR_26',\n",
        " 'LINEEW_ERR_27',\n",
        " 'LINEEW_ERR_24',\n",
        " 'LINEEW_ERR_25',\n",
        " 'LINESIGMA_19',\n",
        " 'LINESIGMA_18',\n",
        " 'LINEEW_ERR_20',\n",
        " 'LINEEW_ERR_21',\n",
        " 'LINESIGMA_15',\n",
        " 'LINESIGMA_14',\n",
        " 'LINESIGMA_17',\n",
        " 'LINESIGMA_16',\n",
        " 'LINESIGMA_11',\n",
        " 'LINESIGMA_10',\n",
        " 'LINESIGMA_13',\n",
        " 'LINESIGMA_12',\n",
        " 'FIBERID',\n",
        " 'Z_ERR_4',\n",
        " 'Z_ERR_5',\n",
        " 'Z_ERR_1',\n",
        " 'Z_ERR_2',\n",
        " 'Z_ERR_3',\n",
        " 'LINENAME_2',\n",
        " 'LINEAREA_18',\n",
        " 'LINEAREA_19',\n",
        " 'LINENAME_3',\n",
        " 'LINEAREA_10',\n",
        " 'LINEAREA_11',\n",
        " 'LINEAREA_12',\n",
        " 'LINEAREA_13',\n",
        " 'LINEAREA_14',\n",
        " 'LINEAREA_15',\n",
        " 'LINEAREA_16',\n",
        " 'LINEAREA_17',\n",
        " 'LINEZ_8',\n",
        " 'LINEZ_9',\n",
        " 'LINEZ_2',\n",
        " 'LINEZ_3',\n",
        " 'LINEZ_1',\n",
        " 'LINEZ_6',\n",
        " 'LINEZ_7',\n",
        " 'LINEZ_4',\n",
        " 'LINEZ_5',\n",
        " 'LINEAREA_2',\n",
        " 'LINEDOF_31',\n",
        " 'LINEAREA_3',\n",
        " 'LINEAREA_ERR_28',\n",
        " 'LINEDOF_30',\n",
        " 'LINECONTLEVEL_29',\n",
        " 'LINECONTLEVEL_28',\n",
        " 'LINECONTLEVEL_ERR_31',\n",
        " 'LINECONTLEVEL_21',\n",
        " 'LINECONTLEVEL_20',\n",
        " 'LINECONTLEVEL_23',\n",
        " 'LINECONTLEVEL_22',\n",
        " 'LINECONTLEVEL_25',\n",
        " 'LINECONTLEVEL_24',\n",
        " 'LINECONTLEVEL_27',\n",
        " 'LINECONTLEVEL_26',\n",
        " 'TILE',\n",
        " 'LINEAREA_ERR_29',\n",
        " 'LINESIGMA_ERR_9',\n",
        " 'SPECTROSYNFLUX',\n",
        " 'LINEAREA_ERR_21',\n",
        " 'LINEAREA_ERR_20',\n",
        " 'LINEAREA_ERR_23',\n",
        " 'LINEAREA_ERR_22',\n",
        " 'LINEAREA_ERR_25',\n",
        " 'LINEAREA_ERR_24',\n",
        " 'LINEAREA_ERR_27',\n",
        " 'LINEAREA_ERR_26',\n",
        " 'LINENPIXLEFT_31',\n",
        " 'LINENPIXLEFT_30',\n",
        " 'LINECHI2_1',\n",
        " 'LINECHI2_3',\n",
        " 'LINECHI2_2',\n",
        " 'LINECHI2_5',\n",
        " 'LINECHI2_4',\n",
        " 'LINECHI2_7',\n",
        " 'LINECHI2_6',\n",
        " 'LINECHI2_9',\n",
        " 'LINECHI2_8',\n",
        " 'LINEZ_ERR_15',\n",
        " 'LINENPIXRIGHT_31',\n",
        " 'LINENPIXRIGHT_30',\n",
        " 'LINEZ_30',\n",
        " 'best_redshift',\n",
        " 'LINECHI2_15',\n",
        " 'LINECHI2_14',\n",
        " 'LINECHI2_17',\n",
        " 'LINECHI2_16',\n",
        " 'LINECHI2_11',\n",
        " 'LINECHI2_10',\n",
        " 'LINECHI2_13',\n",
        " 'LINECHI2_12',\n",
        " 'LINEDOF_9',\n",
        " 'LINECHI2_19',\n",
        " 'LINECHI2_18',\n",
        " 'LINEDOF_8',\n",
        " 'LINESIGMA_1',\n",
        " 'LINESIGMA_3',\n",
        " 'LINESIGMA_2',\n",
        " 'LINESIGMA_5',\n",
        " 'LINESIGMA_4',\n",
        " 'LINESIGMA_7',\n",
        " 'LINESIGMA_6',\n",
        " 'LINESIGMA_9',\n",
        " 'LINESIGMA_8',\n",
        " 'LINEWAVE_18',\n",
        " 'LINEWAVE_19',\n",
        " 'LINEWAVE_14',\n",
        " 'LINEWAVE_15',\n",
        " 'LINEWAVE_16',\n",
        " 'LINEWAVE_17',\n",
        " 'LINEWAVE_10',\n",
        " 'LINEWAVE_11',\n",
        " 'LINEWAVE_12',\n",
        " 'LINEWAVE_13',\n",
        " 'LINEEW_ERR_7',\n",
        " 'LINEEW_ERR_6',\n",
        " 'LINEEW_ERR_5',\n",
        " 'LINEEW_ERR_4',\n",
        " 'LINEEW_ERR_3',\n",
        " 'LINEEW_ERR_2',\n",
        " 'LINEEW_ERR_1',\n",
        " 'LINEEW_ERR_9',\n",
        " 'LINEEW_ERR_8',\n",
        " 'LINESIGMA_24',\n",
        " 'LINESIGMA_25',\n",
        " 'LINESIGMA_26',\n",
        " 'LINESIGMA_27',\n",
        " 'LINESIGMA_20',\n",
        " 'LINESIGMA_21',\n",
        " 'LINESIGMA_22',\n",
        " 'LINESIGMA_23',\n",
        " 'LINESIGMA_28',\n",
        " 'LINESIGMA_29',\n",
        " 'EXTINCTION_I',\n",
        " 'LINESIGMA_ERR_31',\n",
        " 'LINESIGMA_ERR_30',\n",
        " 'EXTINCTION_Z',\n",
        " 'conf',\n",
        " 'EXTINCTION_R',\n",
        " 'EXTINCTION_U',\n",
        " 'SCUSS_modeladderr',\n",
        " 'LINEZ_31',\n",
        " 'PLUG_DEC',\n",
        " 'CFHT_eI',\n",
        " 'CFHT_eG',\n",
        " 'CFHT_eZ',\n",
        " 'CFHT_eY',\n",
        " 'CFHT_eR',\n",
        " 'CFHT_zphot',\n",
        " 'CFHT_eU',\n",
        " 'LINECONTLEVEL_10',\n",
        " 'LINECONTLEVEL_11',\n",
        " 'LINECONTLEVEL_12',\n",
        " 'LINECONTLEVEL_13',\n",
        " 'LINECONTLEVEL_14',\n",
        " 'LINECONTLEVEL_15',\n",
        " 'LINECONTLEVEL_16',\n",
        " 'LINECONTLEVEL_17',\n",
        " 'LINECONTLEVEL_18',\n",
        " 'LINECONTLEVEL_19',\n",
        " 'LINEEW_9',\n",
        " 'LINEEW_8',\n",
        " 'LINEEW_3',\n",
        " 'LINEEW_2',\n",
        " 'LINEEW_1',\n",
        " 'LINEEW_7',\n",
        " 'LINEEW_6',\n",
        " 'LINEEW_5',\n",
        " 'LINEEW_4',\n",
        " 'LINEDOF_5',\n",
        " 'LINEDOF_4',\n",
        " 'LINEDOF_7',\n",
        " 'LINEDOF_6',\n",
        " 'LINEDOF_1',\n",
        " 'SDSS_modelmag_u',\n",
        " 'LINEDOF_3',\n",
        " 'LINEDOF_2',\n",
        " 'LINESIGMA_ERR_1',\n",
        " 'LINESIGMA_ERR_3',\n",
        " 'LINESIGMA_ERR_2',\n",
        " 'LINESIGMA_ERR_5',\n",
        " 'LINESIGMA_ERR_4',\n",
        " 'LINESIGMA_ERR_7',\n",
        " 'LINESIGMA_ERR_6',\n",
        " 'zSEL',\n",
        " 'LINENAME_30',\n",
        " 'LINENAME_31',\n",
        " 'CFHT_starGal',\n",
        " 'LINEEW_ERR_13',\n",
        " 'LINEEW_ERR_12',\n",
        " 'LINEEW_ERR_11',\n",
        " 'LINEEW_ERR_10',\n",
        " 'LINEEW_ERR_17',\n",
        " 'LINEEW_ERR_16',\n",
        " 'LINEEW_ERR_15',\n",
        " 'LINEEW_ERR_14',\n",
        " 'LINEEW_ERR_19',\n",
        " 'LINEEW_ERR_18',\n",
        " 'isGRIW',\n",
        " 'LINENPIXLEFT_9',\n",
        " 'LINENPIXLEFT_8',\n",
        " 'LINENPIXLEFT_3',\n",
        " 'LINENPIXLEFT_2',\n",
        " 'LINENPIXLEFT_1',\n",
        " 'LINENPIXLEFT_7',\n",
        " 'LINENPIXLEFT_6',\n",
        " 'LINENPIXLEFT_5',\n",
        " 'LINENPIXLEFT_4',\n",
        " 'LINEWAVE_6',\n",
        " 'LINEWAVE_7',\n",
        " 'LINEWAVE_4',\n",
        " 'VDISP',\n",
        " 'LINEWAVE_2',\n",
        " 'LINEWAVE_3',\n",
        " 'LINEWAVE_1',\n",
        " 'LINEAREA_25',\n",
        " 'LINEAREA_24',\n",
        " 'LINEAREA_27',\n",
        " 'LINEAREA_26',\n",
        " 'LINEAREA_21',\n",
        " 'LINEAREA_20',\n",
        " 'LINEWAVE_8',\n",
        " 'SPECTROSYNFLUX_IVAR',\n",
        " 'Z_ERR_NOQSO',\n",
        " 'zCont',\n",
        " 'DES_rMAG_DETMODEL',\n",
        " 'LINEAREA_ERR_8',\n",
        " 'LINEAREA_ERR_9',\n",
        " 'LINEAREA_ERR_6',\n",
        " 'LINEAREA_ERR_7',\n",
        " 'LINEAREA_ERR_4',\n",
        " 'LINEAREA_ERR_5',\n",
        " 'LINEAREA_ERR_2',\n",
        " 'LINEAREA_ERR_3',\n",
        " 'LINEAREA_ERR_1',\n",
        " 'SUBCLASS',\n",
        " 'LINEAREA_ERR_30',\n",
        " 'LINEAREA_ERR_31',\n",
        " 'LINENPIXLEFT_28',\n",
        " 'LINENPIXLEFT_29',\n",
        " 'LINENPIXLEFT_22',\n",
        " 'LINENPIXLEFT_23',\n",
        " 'LINENPIXLEFT_20',\n",
        " 'LINENPIXLEFT_21',\n",
        " 'LINENPIXLEFT_26',\n",
        " 'LINENPIXLEFT_27',\n",
        " 'LINENPIXLEFT_24',\n",
        " 'LINENPIXLEFT_25',\n",
        " 'SDSS_modelmag_i',\n",
        " 'CFHT_delta',\n",
        " 'SDSS_modelmag_g',\n",
        " 'LINEZ_25',\n",
        " 'LINEZ_24',\n",
        " 'LINEZ_27',\n",
        " 'LINEZ_26',\n",
        " 'LINEZ_21',\n",
        " 'LINEZ_20',\n",
        " 'LINEZ_23',\n",
        " 'LINEZ_22',\n",
        " 'SDSS_modelmag_r',\n",
        " 'LINEZ_29',\n",
        " 'LINEZ_28',\n",
        " 'LINECONTLEVEL_8',\n",
        " 'LINECONTLEVEL_9',\n",
        " 'LINECONTLEVEL_6',\n",
        " 'LINECONTLEVEL_7',\n",
        " 'LINECONTLEVEL_4',\n",
        " 'LINECONTLEVEL_5',\n",
        " 'LINECONTLEVEL_2',\n",
        " 'LINECONTLEVEL_3',\n",
        " 'LINECONTLEVEL_1',\n",
        " 'Z',\n",
        " 'LINEWAVE_21',\n",
        " 'LINEWAVE_20',\n",
        " 'LINEWAVE_23',\n",
        " 'LINEWAVE_22',\n",
        " 'LINEWAVE_25',\n",
        " 'LINEWAVE_24',\n",
        " 'LINEWAVE_27',\n",
        " 'LINEWAVE_26',\n",
        " 'LINEWAVE_29',\n",
        " 'LINEWAVE_28',\n",
        " 'LINEWAVE_5',\n",
        " 'LINEAREA_29',\n",
        " 'LINEAREA_28',\n",
        " 'FisherGRIW',\n",
        " 'TFILE',\n",
        " 'TS',\n",
        " 'LINEAREA_23',\n",
        " 'LINESIGMA_31',\n",
        " 'LINESIGMA_30',\n",
        " 'LINEWAVE_9',\n",
        " 'LINESIGMA_ERR_8',\n",
        " 'LINECONTLEVEL_31',\n",
        " 'isURI',\n",
        " 'LINEDOF_19',\n",
        " 'LINEDOF_18',\n",
        " 'LINEDOF_15',\n",
        " 'LINEDOF_14',\n",
        " 'LINEDOF_17',\n",
        " 'LINEDOF_16',\n",
        " 'LINEDOF_11',\n",
        " 'LINEDOF_10',\n",
        " 'LINEDOF_13',\n",
        " 'LINEDOF_12']"
       ]
      }
     ],
     "prompt_number": 10
    },
    {
     "cell_type": "code",
     "collapsed": false,
     "input": [
      "hist(data['Z'], bins=arange(0., 1.7+0.1, 0.1))"
     ],
     "language": "python",
     "metadata": {},
     "outputs": [
      {
       "metadata": {},
       "output_type": "pyout",
       "prompt_number": 14,
       "text": [
        "(array([  887.,   533.,   744.,   842.,  1143.,  1409.,  2356.,  3282.,\n",
        "         2754.,  1744.,  1033.,   767.,   552.,   392.,   389.,   315.,\n",
        "          286.]),\n",
        " array([ 0. ,  0.1,  0.2,  0.3,  0.4,  0.5,  0.6,  0.7,  0.8,  0.9,  1. ,\n",
        "         1.1,  1.2,  1.3,  1.4,  1.5,  1.6,  1.7]),\n",
        " <a list of 17 Patch objects>)"
       ]
      },
      {
       "metadata": {},
       "output_type": "display_data",
       "png": "[encoded data removed]",
       "text": [
        "<matplotlib.figure.Figure at 0x10c96b9d0>"
       ]
      }
     ],
     "prompt_number": 14
    },
    {
     "cell_type": "code",
     "collapsed": false,
     "input": [
      "nobj = data.size"
     ],
     "language": "python",
     "metadata": {},
     "outputs": [],
     "prompt_number": 15
    },
    {
     "cell_type": "code",
     "collapsed": false,
     "input": [
      "objs_dtype = [('PLATE', 'i4'),\n",
      "             ('MJD', 'i4'),\n",
      "             ('FIBER', 'i4'),\n",
      "             ('Z', 'f8')]\n",
      "objs = np.zeros(nobj, dtype=objs_dtype)"
     ],
     "language": "python",
     "metadata": {},
     "outputs": [],
     "prompt_number": 16
    },
    {
     "cell_type": "code",
     "collapsed": true,
     "input": [],
     "language": "python",
     "metadata": {},
     "outputs": []
    },
    {
     "cell_type": "code",
     "collapsed": false,
     "input": [],
     "language": "python",
     "metadata": {},
     "outputs": []
    }
   ],
   "metadata": {}
  }
 ]
}